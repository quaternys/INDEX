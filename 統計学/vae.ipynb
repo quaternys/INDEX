{
 "cells": [
  {
   "cell_type": "markdown",
   "metadata": {},
   "source": [
    "2023/08/15"
   ]
  },
  {
   "cell_type": "markdown",
   "metadata": {},
   "source": [
    "# Variational Autoencoder\n",
    "- [Auto-Encoding Variational Bayes (Kingma & Welling, arXiv 2013/12/20)](https://arxiv.org/abs/1312.6114)\n",
    "  - [Stochastic Gradient VB and the Variational Auto-Encoder (Kingma & Welling, ICLR 2014)](https://pdfs.semanticscholar.org/60ea/adac49b19d1f41925df3bbbb7983a113acec.pdf)"
   ]
  },
  {
   "cell_type": "markdown",
   "metadata": {},
   "source": [
    "変分ベイズにおける変分下限\n",
    "\n",
    "$$\n",
    "\\mathcal{L}[q(z)] = \\ln p(x) - KL[q(z)||p(z|x)]\n",
    "$$"
   ]
  },
  {
   "cell_type": "code",
   "execution_count": null,
   "metadata": {},
   "outputs": [],
   "source": []
  }
 ],
 "metadata": {
  "language_info": {
   "name": "python"
  },
  "orig_nbformat": 4
 },
 "nbformat": 4,
 "nbformat_minor": 2
}
