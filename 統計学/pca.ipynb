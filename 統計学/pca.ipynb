{
 "cells": [
  {
   "attachments": {},
   "cell_type": "markdown",
   "metadata": {},
   "source": [
    "2023/01/02"
   ]
  },
  {
   "attachments": {},
   "cell_type": "markdown",
   "metadata": {},
   "source": [
    "# 主成分分析 principal component analysis; PCA"
   ]
  },
  {
   "attachments": {},
   "cell_type": "markdown",
   "metadata": {},
   "source": [
    "$$\n",
    "\\bm{Z} = \\bm{X} \\bm{U} \\in \\mathbb{R}^{P \\times N}\n",
    "$$\n",
    "\n",
    "- $\\bm{X} \\in \\mathbb{R}^{N \\times P}$: データ\n",
    "  - $N$: データ数\n",
    "  - $P$: 説明変数の数\n",
    "- $\\bm{U} \\in \\mathbb{R}^{P \\times P}$: 各列が $\\bm{X}$ の共分散行列の各固有ベクトル"
   ]
  },
  {
   "attachments": {},
   "cell_type": "markdown",
   "metadata": {},
   "source": [
    "\n",
    "- 問題\n",
    "  - $P$ 次元データ $\\bm{x}_n \\in \\mathbb{R}^P$ を1次元 $z_n \\in \\mathbb{R}$ に変換したい．ただし情報損失は最小に抑えたい．\n",
    "  - ⇔ $z_n$ の分散が最大になるように $\\bm{x}_n$ を正射影できる $z$ 軸を探したい．\n",
    "    - 正射影：軸とのなす角を $\\theta$ として $z_n = \\|\\bm{x}_n\\| \\cos{\\theta}$\n",
    "- 答え：$z_n = \\bm{u}^T \\bm{x}_n$\n",
    "  - $\\bm{u} \\in \\mathbb{R}^P$: $\\bm{X}$ の共分散行列の固有値最大の固有ベクトル\n",
    "- 導出\n",
    "  - 前提：原点を通る軸を探すので，よくフィットさせるためにデータを中心化しておく．\n",
    "    - 平均が0になるので，共分散行列は $\\bm{\\Sigma} = \\frac{1}{N} \\bm{X}^T \\bm{X}$ となる．\n",
    "  - $z$ 軸方向の単位ベクトルを $\\bm{u}$ とすると，$\\bm{x}_n$ を $z$ 軸に正射影した値は $z = \\|\\bm{x}_n\\| \\cos{\\theta} = \\|\\bm{x}_n\\| \\cdot \\frac{\\bm{u}^T \\bm{x}_n}{\\|\\bm{u}\\| \\|\\bm{x}_n\\|} = \\bm{u}^T \\bm{x}_n$\n",
    "    - 全データを変換して並べると $\\bm{z} = \\bm{X} \\bm{u} \\in \\mathbb{R}^{N}$\n",
    "  - $z_n$ の分散は $\\frac{1}{N} \\sum_{n=1}^N z_n^2 = \\frac{1}{N} \\bm{z}^T \\bm{z} = \\frac{1}{N} (\\bm{X}\\bm{u})^T (\\bm{X}\\bm{u}) = \\frac{1}{N} \\bm{u}^T \\bm{X}^T \\bm{X} \\bm{u} = \\bm{u}^T \\bm{\\Sigma} \\bm{u}$\n",
    "  - これを最大化する $\\bm{u}$ は $\\bm{\\Sigma}$ の最大固有値に対応する固有ベクトルにほかならない．\n",
    "    - （詳細）これは $\\bm{\\Sigma}$ の二次形式であり，分散でもあるので非負（半正定値）．\n",
    "    - 半正定値対称行列の二次形式の最大値は最大固有値であり，$\\bm{u}$ はそれに対応する固有ベクトルである．\n",
    "- 参考\n",
    "  - http://ibis.t.u-tokyo.ac.jp/suzuki/lecture/2015/dataanalysis/L7.pdf\n",
    "    - p. 10\n",
    "  - CS学部講義：コンピュータ概論III(2020)，データサイエンス(2021)"
   ]
  },
  {
   "cell_type": "code",
   "execution_count": 1,
   "metadata": {},
   "outputs": [
    {
     "data": {
      "text/plain": [
       "(150, 4)"
      ]
     },
     "execution_count": 1,
     "metadata": {},
     "output_type": "execute_result"
    }
   ],
   "source": [
    "import numpy as np\n",
    "import matplotlib.pyplot as plt\n",
    "from sklearn.datasets import load_iris\n",
    "\n",
    "X, y = load_iris(return_X_y=True)\n",
    "X = (X - X.mean(0)) # 中心化\n",
    "X.shape             # (N, P)"
   ]
  },
  {
   "cell_type": "code",
   "execution_count": 2,
   "metadata": {},
   "outputs": [
    {
     "data": {
      "text/plain": [
       "<matplotlib.legend.Legend at 0x1c68835cca0>"
      ]
     },
     "execution_count": 2,
     "metadata": {},
     "output_type": "execute_result"
    },
    {
     "data": {
      "image/png": "[encoded data removed]",
      "text/plain": [
       "<Figure size 432x288 with 1 Axes>"
      ]
     },
     "metadata": {
      "needs_background": "light"
     },
     "output_type": "display_data"
    }
   ],
   "source": [
    "# 0番目の説明変数だけでは入り乱れていてあまり識別できない\n",
    "for label in set(y):\n",
    "    plt.hist(X[y==label, 0], alpha=0.5, label=f\"label {label}\")\n",
    "plt.legend()"
   ]
  },
  {
   "cell_type": "code",
   "execution_count": 3,
   "metadata": {},
   "outputs": [],
   "source": [
    "Σ = np.cov(X.T)         # 共分散行列\n",
    "λ, U = np.linalg.eig(Σ) # 共分散行列の固有値，固有ベクトル\n",
    "Z = X @ U               # 変換"
   ]
  },
  {
   "cell_type": "code",
   "execution_count": 4,
   "metadata": {},
   "outputs": [
    {
     "data": {
      "text/plain": [
       "<matplotlib.legend.Legend at 0x1c68835f070>"
      ]
     },
     "execution_count": 4,
     "metadata": {},
     "output_type": "execute_result"
    },
    {
     "data": {
      "image/png": "[encoded data removed]",
      "text/plain": [
       "<Figure size 432x288 with 1 Axes>"
      ]
     },
     "metadata": {
      "needs_background": "light"
     },
     "output_type": "display_data"
    }
   ],
   "source": [
    "# 第1主成分だけでもかなり識別できる\n",
    "for label in set(y):\n",
    "    plt.hist(Z[y==label, 0], alpha=0.5, label=f\"label {label}\")\n",
    "plt.legend()"
   ]
  },
  {
   "attachments": {},
   "cell_type": "markdown",
   "metadata": {},
   "source": [
    "## 固有値・主成分の性質"
   ]
  },
  {
   "cell_type": "code",
   "execution_count": 5,
   "metadata": {},
   "outputs": [
    {
     "data": {
      "text/plain": [
       "array([[ 1.00000000e+00, -2.11849690e-16, -9.32925148e-17,\n",
       "         3.13810189e-15],\n",
       "       [-2.11849690e-16,  1.00000000e+00, -3.48314344e-15,\n",
       "         4.31571478e-15],\n",
       "       [-9.32925148e-17, -3.48314344e-15,  1.00000000e+00,\n",
       "         5.33266449e-15],\n",
       "       [ 3.13810189e-15,  4.31571478e-15,  5.33266449e-15,\n",
       "         1.00000000e+00]])"
      ]
     },
     "execution_count": 5,
     "metadata": {},
     "output_type": "execute_result"
    }
   ],
   "source": [
    "# 変換後は無相関になっている（相関行列が単位行列）\n",
    "np.corrcoef(Z.T)"
   ]
  },
  {
   "cell_type": "code",
   "execution_count": 6,
   "metadata": {},
   "outputs": [
    {
     "name": "stdout",
     "output_type": "stream",
     "text": [
      "[2.05626888 0.49261623 0.27965961 0.15438618]\n",
      "[2.05626888 0.49261623 0.27965961 0.15438618]\n"
     ]
    }
   ],
   "source": [
    "# 固有値の平方根は標準偏差と等しい\n",
    "print(Z.std(0, ddof=1))\n",
    "print(λ**0.5)"
   ]
  },
  {
   "cell_type": "code",
   "execution_count": 7,
   "metadata": {},
   "outputs": [
    {
     "name": "stdout",
     "output_type": "stream",
     "text": [
      "[[ 0.36138659 -0.08452251  0.85667061  0.3582892 ]\n",
      " [-0.65658877 -0.73016143  0.17337266  0.07548102]\n",
      " [-0.58202985  0.59791083  0.07623608  0.54583143]\n",
      " [ 0.31548719 -0.3197231  -0.47983899  0.75365743]]\n",
      "[[ 0.36138659 -0.08452251  0.85667061  0.3582892 ]\n",
      " [-0.65658877 -0.73016143  0.17337266  0.07548102]\n",
      " [-0.58202985  0.59791083  0.07623608  0.54583143]\n",
      " [ 0.31548719 -0.3197231  -0.47983899  0.75365743]]\n",
      "[[ 1.00000000e+00  5.79397641e-16  1.38777878e-16  5.55111512e-17]\n",
      " [ 5.79397641e-16  1.00000000e+00 -2.71310752e-15  8.32667268e-16]\n",
      " [ 1.38777878e-16 -2.71310752e-15  1.00000000e+00  1.05471187e-15]\n",
      " [ 5.55111512e-17  8.32667268e-16  1.05471187e-15  1.00000000e+00]]\n"
     ]
    }
   ],
   "source": [
    "# 共分散行列の固有ベクトル行列は直交行列\n",
    "print(U.T)\n",
    "print(np.linalg.inv(U))\n",
    "print(U.T @ U)"
   ]
  },
  {
   "attachments": {},
   "cell_type": "markdown",
   "metadata": {},
   "source": [
    "# scikit-learn\n",
    "実用上最短コード"
   ]
  },
  {
   "cell_type": "code",
   "execution_count": 19,
   "metadata": {},
   "outputs": [],
   "source": [
    "import numpy as np\n",
    "import matplotlib.pyplot as plt\n",
    "from sklearn.datasets import load_iris\n",
    "from sklearn.decomposition import PCA\n",
    "\n",
    "X, y = load_iris(return_X_y=True)\n",
    "# 中心化・fit(固有値などの計算のみ)・変換\n",
    "X = (X - X.mean(0))\n",
    "pca = PCA().fit(X)\n",
    "Z_ = pca.transform(X)"
   ]
  },
  {
   "attachments": {},
   "cell_type": "markdown",
   "metadata": {},
   "source": [
    "人力コードと比較"
   ]
  },
  {
   "cell_type": "code",
   "execution_count": 10,
   "metadata": {},
   "outputs": [
    {
     "name": "stdout",
     "output_type": "stream",
     "text": [
      "[[ 0.68569351 -0.042434    1.27431544  0.51627069]\n",
      " [-0.042434    0.18997942 -0.32965638 -0.12163937]\n",
      " [ 1.27431544 -0.32965638  3.11627785  1.2956094 ]\n",
      " [ 0.51627069 -0.12163937  1.2956094   0.58100626]]\n",
      "[[ 0.68569351 -0.042434    1.27431544  0.51627069]\n",
      " [-0.042434    0.18997942 -0.32965638 -0.12163937]\n",
      " [ 1.27431544 -0.32965638  3.11627785  1.2956094 ]\n",
      " [ 0.51627069 -0.12163937  1.2956094   0.58100626]]\n"
     ]
    }
   ],
   "source": [
    "# 共分散行列\n",
    "print(Σ)\n",
    "print(pca.get_covariance())"
   ]
  },
  {
   "cell_type": "code",
   "execution_count": 11,
   "metadata": {},
   "outputs": [
    {
     "name": "stdout",
     "output_type": "stream",
     "text": [
      "[4.22824171 0.24267075 0.0782095  0.02383509]\n",
      "[4.22824171 0.24267075 0.0782095  0.02383509]\n"
     ]
    }
   ],
   "source": [
    "# 固有値\n",
    "print(λ)\n",
    "print(pca.explained_variance_)"
   ]
  },
  {
   "cell_type": "code",
   "execution_count": 21,
   "metadata": {},
   "outputs": [
    {
     "name": "stdout",
     "output_type": "stream",
     "text": [
      "[[ 0.36138659 -0.65658877 -0.58202985  0.31548719]\n",
      " [-0.08452251 -0.73016143  0.59791083 -0.3197231 ]\n",
      " [ 0.85667061  0.17337266  0.07623608 -0.47983899]\n",
      " [ 0.3582892   0.07548102  0.54583143  0.75365743]]\n",
      "[[ 0.36138659  0.65658877 -0.58202985 -0.31548719]\n",
      " [-0.08452251  0.73016143  0.59791083  0.3197231 ]\n",
      " [ 0.85667061 -0.17337266  0.07623608  0.47983899]\n",
      " [ 0.3582892  -0.07548102  0.54583143 -0.75365743]]\n"
     ]
    }
   ],
   "source": [
    "# 固有ベクトル：正反対のベクトルも解なので，解法により変わりうる\n",
    "print(U)\n",
    "print(pca.components_.T)    # 転置されていることに注意"
   ]
  },
  {
   "cell_type": "code",
   "execution_count": 20,
   "metadata": {},
   "outputs": [
    {
     "name": "stdout",
     "output_type": "stream",
     "text": [
      "[[-2.68412563e+00 -3.19397247e-01 -2.79148276e-02  2.26243707e-03]\n",
      " [-2.71414169e+00  1.77001225e-01 -2.10464272e-01  9.90265503e-02]\n",
      " [-2.88899057e+00  1.44949426e-01  1.79002563e-02  1.99683897e-02]]\n",
      "[[-2.68412563e+00  3.19397247e-01 -2.79148276e-02 -2.26243707e-03]\n",
      " [-2.71414169e+00 -1.77001225e-01 -2.10464272e-01 -9.90265503e-02]\n",
      " [-2.88899057e+00 -1.44949426e-01  1.79002563e-02 -1.99683897e-02]]\n"
     ]
    }
   ],
   "source": [
    "# 変換後\n",
    "print(Z[:3])\n",
    "print(Z_[:3])"
   ]
  },
  {
   "cell_type": "code",
   "execution_count": null,
   "metadata": {},
   "outputs": [],
   "source": []
  }
 ],
 "metadata": {
  "kernelspec": {
   "display_name": "venv",
   "language": "python",
   "name": "python3"
  },
  "language_info": {
   "codemirror_mode": {
    "name": "ipython",
    "version": 3
   },
   "file_extension": ".py",
   "mimetype": "text/x-python",
   "name": "python",
   "nbconvert_exporter": "python",
   "pygments_lexer": "ipython3",
   "version": "3.10.8"
  },
  "orig_nbformat": 4,
  "vscode": {
   "interpreter": {
    "hash": "9ded38025e7b08e8d11260cded3e3515995d8cb6a0dd8d6e015af437f87a8e3f"
   }
  }
 },
 "nbformat": 4,
 "nbformat_minor": 2
}
