{
 "cells": [
  {
   "cell_type": "markdown",
   "metadata": {},
   "source": [
    "2023/07/30"
   ]
  },
  {
   "cell_type": "markdown",
   "metadata": {},
   "source": [
    "標本分散の期待値が\n",
    "$$\n",
    "E[s^2] = \\frac{N-1}{N} \\sigma^2\n",
    "$$\n",
    "であることを確認するだけ（導出は期待値の定義から）"
   ]
  },
  {
   "cell_type": "code",
   "execution_count": 1,
   "metadata": {},
   "outputs": [
    {
     "data": {
      "text/plain": [
       "0.950146838701063"
      ]
     },
     "execution_count": 1,
     "metadata": {},
     "output_type": "execute_result"
    }
   ],
   "source": [
    "import numpy as np\n",
    "N = 20              # 標本数\n",
    "n_samp = 1234567    # 標本集団を生成する回数（多数回繰り返して期待値を近似する）\n",
    "X = np.random.randn(n_samp, N)  # 分布は任意だけどここでは標準正規分布 N(μ=0, σ^2=1)\n",
    "X.var(1).mean()     # (N - 1) / N * σ^2"
   ]
  },
  {
   "cell_type": "markdown",
   "metadata": {},
   "source": [
    "# 不偏分散"
   ]
  },
  {
   "cell_type": "markdown",
   "metadata": {},
   "source": [
    "標本から母分散を推定するためには標本分散を $N/(N-1)$ 倍すればよい．\n",
    "それが不偏分散\n",
    "$$\n",
    "\\hat{\\sigma}^2 = \\frac{N}{N-1} s^2.\n",
    "$$"
   ]
  },
  {
   "cell_type": "code",
   "execution_count": 2,
   "metadata": {},
   "outputs": [
    {
     "data": {
      "text/plain": [
       "1.0001545670537508"
      ]
     },
     "execution_count": 2,
     "metadata": {},
     "output_type": "execute_result"
    }
   ],
   "source": [
    "# 不偏分散を使えばちゃんと母分散に近づく\n",
    "X.var(1, ddof=1).mean()"
   ]
  },
  {
   "cell_type": "code",
   "execution_count": null,
   "metadata": {},
   "outputs": [],
   "source": []
  }
 ],
 "metadata": {
  "kernelspec": {
   "display_name": "venv311",
   "language": "python",
   "name": "python3"
  },
  "language_info": {
   "codemirror_mode": {
    "name": "ipython",
    "version": 3
   },
   "file_extension": ".py",
   "mimetype": "text/x-python",
   "name": "python",
   "nbconvert_exporter": "python",
   "pygments_lexer": "ipython3",
   "version": "3.11.4"
  },
  "orig_nbformat": 4
 },
 "nbformat": 4,
 "nbformat_minor": 2
}
