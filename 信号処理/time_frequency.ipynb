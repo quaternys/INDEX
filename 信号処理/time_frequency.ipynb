{
 "cells": [
  {
   "attachments": {},
   "cell_type": "markdown",
   "metadata": {},
   "source": [
    "- 離散コサイン変換 (discrete cosine transform; DCT)\n",
    "- Wavelet変換 (wavelet transform; WT)\n",
    "- 経験的モード分解 (empirical mode decomposition; EMD)\n",
    "- Hilbert-Huang 変換 (Hilbert-Huang transform; HHT)"
   ]
  },
  {
   "cell_type": "code",
   "execution_count": null,
   "metadata": {},
   "outputs": [],
   "source": []
  }
 ],
 "metadata": {
  "language_info": {
   "name": "python"
  },
  "orig_nbformat": 4
 },
 "nbformat": 4,
 "nbformat_minor": 2
}
