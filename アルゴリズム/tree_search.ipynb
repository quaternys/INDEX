{
 "metadata": {
  "language_info": {
   "codemirror_mode": {
    "name": "ipython",
    "version": 3
   },
   "file_extension": ".py",
   "mimetype": "text/x-python",
   "name": "python",
   "nbconvert_exporter": "python",
   "pygments_lexer": "ipython3",
   "version": "3.8.9"
  },
  "orig_nbformat": 2,
  "kernelspec": {
   "name": "python389jvsc74a57bd0775999ca77b3974f791554bf130876e686b0151480340f446ad876188e45961f",
   "display_name": "Python 3.8.9 64-bit ('venv': venv)"
  },
  "metadata": {
   "interpreter": {
    "hash": "775999ca77b3974f791554bf130876e686b0151480340f446ad876188e45961f"
   }
  }
 },
 "nbformat": 4,
 "nbformat_minor": 2,
 "cells": [
  {
   "source": [
    "# なんですかこれは\n",
    "- できるだけ小さい問題設定・プログラムで探索アルゴリズムを実装してみる\n",
    "- アルゴリズム以外の部分（判定ロジックとか）を極力削ぎ落とすことを目指して作っている\n",
    "- 更新\n",
    "    - 2021.05.13 A*探索まで書いた\n",
    "    - 2021.05.14 heapq の説明をちょっと修正\n",
    "\n",
    "---\n",
    "\n",
    "# キュー操作用標準ライブラリについて\n",
    "## collections.deque\n",
    "- list.pop(0) は遅い\n",
    "    - 計算量は $O(N)$\n",
    "- 代わりに deque.popleft() を使うべし\n",
    "    - 計算量は $O(1)$\n",
    "- ちなみに queue.Queue というのもあるが、基本的には deque 一択\n",
    "    - deque の方が高速\n",
    "    - 左右両側から push, pop できる\n",
    "        - deque = Double-Ended Queue\n",
    "    - queue ライブラリはスレッドセーフ：マルチスレッド時に有力"
   ],
   "cell_type": "markdown",
   "metadata": {}
  },
  {
   "cell_type": "code",
   "execution_count": 1,
   "metadata": {},
   "outputs": [
    {
     "output_type": "stream",
     "name": "stdout",
     "text": [
      "deque([0, 1, 2]) <class 'collections.deque'>\ndeque([0, 1, 2, 3])\n0\ndeque([1, 2, 3])\n"
     ]
    }
   ],
   "source": [
    "from collections import deque\n",
    "\n",
    "queue = deque([0, 1, 2])    # キューの作成\n",
    "print(queue, type(queue))\n",
    "\n",
    "queue.append(3)             # 追加\n",
    "print(queue)\n",
    "\n",
    "print(queue.popleft())      # 左から pop\n",
    "print(queue)"
   ]
  },
  {
   "source": [
    "## heapq\n",
    "- ヒープソートされている list を優先度付きキューとして扱える便利な関数群\n",
    "    - ヒープソート：pop を高速にできるように並び替えること（完全なソートではない）\n",
    "    - 未ソートなら heapq.heapify() でヒープソートできる\n",
    "- キューは (key, value) のような tuple の list として表現する\n",
    "    - あくまで扱うのは list\n",
    "    - 内部では tuple 同士の比較によってソートしているだけ\n",
    "- heapq.heappop() で key が最小のものから優先的に取り出される\n",
    "- heapq.heappush() は追加と同時にヒープソートするようなもの"
   ],
   "cell_type": "markdown",
   "metadata": {}
  },
  {
   "cell_type": "code",
   "execution_count": 2,
   "metadata": {},
   "outputs": [
    {
     "output_type": "stream",
     "name": "stdout",
     "text": [
      "初期状態： [(5, 'a'), (7, 'b'), (1, 'c'), (3, 'd')]\nソート後： [(1, 'c'), (3, 'd'), (5, 'a'), (7, 'b')] <class 'list'>\npush後： [(1, 'c'), (3, 'd'), (5, 'a'), (7, 'b'), (4, 'e')]\npop: (1, 'c')\npop後： [(3, 'd'), (4, 'e'), (5, 'a'), (7, 'b')]\n"
     ]
    }
   ],
   "source": [
    "from heapq import heapify, heappush, heappop\n",
    "\n",
    "queue = [(5, \"a\"), (7, \"b\"), (1, \"c\"), (3, \"d\")]\n",
    "print(\"初期状態：\", queue)\n",
    "\n",
    "# 優先度付きキューにする（⇔ ヒープソートする）\n",
    "heapify(queue)\n",
    "print(\"ソート後：\", queue, type(queue))\n",
    "\n",
    "# push\n",
    "heappush(queue, (4, \"e\"))\n",
    "print(\"push後：\", queue)\n",
    "\n",
    "# pop\n",
    "print(\"pop:\", heappop(queue))\n",
    "print(\"pop後：\", queue)"
   ]
  },
  {
   "source": [
    "---\n",
    "\n",
    "# 幅優先探索 Breadth First Search\n",
    "- 環境\n",
    "    - 4 つのノード 0, 1, 2, 3 がある\n",
    "    - グラフが隣接行列の疎行列表現 GRAPH で与えられる\n",
    "        - GRAPH\\[i\\] はノード i の子ノード（隣接ノード）のリスト\n",
    "        - グラフは $ 0 - 1 \\lhd_3^2 $ みたいな形\n",
    "    - スタートノード START は 0\n",
    "\n",
    "- お約束\n",
    "    - 幅優先探索における経路コストの定義\n",
    "        - スタートからのノード数のこと\n",
    "    - 子ノードの定義\n",
    "        - ノードと隣接するノードのこと\n",
    "\n",
    "- アルゴリズム\n",
    "    - 概要\n",
    "        - あるノードに対して、スタートからの最短経路を求めるアルゴリズム\n",
    "        - ここでは全てのノードについて経路コストを計算することを目指す\n",
    "            - 経路を求めるにはちょっとコードが嵩張るのでここではパス\n",
    "            - ゴールを求める問題なら途中で打ち切ればいいだけ\n",
    "                - 全てのノードが見つかるならゴールも見つかるので\n",
    "    - 【下準備】\n",
    "        - 経路コストのリスト costs を用意\n",
    "            - costs\\[i\\] はノード i の経路コスト\n",
    "            - ついでに初期値 -1 で未確定を表現すると、子ノードを処理する条件が判定しやすい\n",
    "                - 「経路コストが確定している ⇔ 訪問済みまたは訪問予定である」から\n",
    "                - 対偶を取ると、「経路コストが未確定 ⇔ 未訪問かつ訪問予定でない」\n",
    "            - スタートノードの経路コストは 0\n",
    "        - 訪問予定のノードのキュー queue を用意\n",
    "            - 最初はスタートノードを訪問する\n",
    "    - 【探索】queue が空になるまで順にノード node を取り出す（訪問する）：\n",
    "        - node の各子ノード child に対して、未訪問かつ訪問予定でないなら：\n",
    "            - 子ノードの経路コストを計算：現在のノードの経路コスト + 1\n",
    "            - child を queue に追加\n",
    "\n",
    "- 補足\n",
    "    - この問題は実質無向グラフだが、幅優先探索は一般の有向グラフに適用できる\n",
    "    - 訪問済みかどうかの判定について\n",
    "        - 巡回路がない場合は無くても動くっちゃ動く\n",
    "        - が、基本的には無限ループの原因になる\n",
    "        - また訪問した時点で既に距離は確定しており、複数回の訪問は無駄である\n",
    "    - 経路を調べたければ parent を記録する必要がある\n",
    "        - class を使ってノードの値と一緒にまとめると楽 → プロ実のような構成になる"
   ],
   "cell_type": "markdown",
   "metadata": {}
  },
  {
   "cell_type": "code",
   "execution_count": 3,
   "metadata": {
    "tags": []
   },
   "outputs": [
    {
     "output_type": "stream",
     "name": "stdout",
     "text": [
      "ノード 0 の距離は 0\nノード 1 の距離は 1\nノード 2 の距離は 2\nノード 3 の距離は 2\n[0, 1, 2, 2]\n"
     ]
    }
   ],
   "source": [
    "\"\"\" 環境定義 \"\"\"\n",
    "GRAPH = [[1], [0, 2, 3], [1, 3], [1, 2]]\n",
    "START = 0\n",
    "\n",
    "\"\"\" 幅優先探索 \"\"\"\n",
    "costs = [0, -1, -1, -1] # costs[i] はノード i の経路コスト\n",
    "queue = deque([START])  # 訪問予定のノードのキュー\n",
    "\n",
    "while queue:\n",
    "    node = queue.popleft()  # 訪問：キューから取り出す\n",
    "    print(f\"ノード {node} の距離は {costs[node]}\")  # ゴール探しならここで判定して break すればいい\n",
    "\n",
    "    for child in GRAPH[node]:               # 各子ノードに対して\n",
    "        if costs[child] == -1:              # 未訪問かつ訪問予定でない（⇔ 経路コストが -1）なら\n",
    "            costs[child] = costs[node] + 1  # 子ノードの経路コストを計算\n",
    "            queue.append(child)             # 訪問予定キューに追加\n",
    "\n",
    "print(costs)    # 距離のリスト"
   ]
  },
  {
   "source": [
    "# Dijkstra アルゴリズム\n",
    "- 概要\n",
    "    - ノード間にコストが定義された場合の幅優先探索\n",
    "    - 経路コストはそれをスタートから合計したものと定義される\n",
    "        - ノード $n$ に対し、$g(n)$ で表すのが慣例\n",
    "    - 経路コストが小さいものから優先的に探索する\n",
    "    - 最適解を最初に発見できる\n",
    "\n",
    "- 環境\n",
    "    - https://qiita.com/shizuma/items/e08a76ab26073b21c207 のグラフを使う  \n",
    "        ![](https://camo.qiitausercontent.com/645ed43161c6afc7ac70094fd2003c472c396fd3/68747470733a2f2f71696974612d696d6167652d73746f72652e73332e616d617a6f6e6177732e636f6d2f302f34303739362f65633738343563632d653038632d653763342d666638612d3664656233306236363732382e706e67)\n",
    "    - ノード間のコストは隣接行列のコスト版みたいなやつ NODE_COSTS で与えられる\n",
    "    - スタートノードとゴールノードをそれぞれ 1, 5 とする\n",
    "        - プログラムでは START, GOAL = 0, 4\n",
    "    - 最短経路は 1 -> 2 -> 3 -> 5\n",
    "    - その経路コストは 85\n",
    "\n",
    "- アルゴリズム\n",
    "    - 【下準備】\n",
    "        - 暫定的な経路コストのリスト costs を用意\n",
    "            - 10000 とか十分大きな値で初期化しとくと後で楽\n",
    "            - スタートノードの経路コストは 0\n",
    "        - 訪問予定のノードのキュー queue を用意\n",
    "            - 最初はスタートノードを訪問する\n",
    "        - 訪問済みノードのリスト visited を用意\n",
    "            - 今回 costs は暫定的な経路コストとして扱うため、訪問済み判定には使えない\n",
    "            - ちなみに in 演算子での比較は list より set の方が高速\n",
    "    - 【探索】queue が空になるまで順にノード node を取り出す（訪問する）：\n",
    "        - まずは node を訪問済みリストに追加\n",
    "        - node の各子ノード child に対して、未訪問なら：\n",
    "            - 子ノードの経路コストを計算：node の距離 + node-child 間のコスト\n",
    "                - 以前の暫定経路コストより短ければ更新\n",
    "            - child を queue に追加"
   ],
   "cell_type": "markdown",
   "metadata": {}
  },
  {
   "cell_type": "code",
   "execution_count": 4,
   "metadata": {},
   "outputs": [],
   "source": [
    "\"\"\" 環境定義 \"\"\"\n",
    "NODE_COSTS = [\n",
    "    [ 0, 50, 80,  0,  0],\n",
    "    [ 0,  0, 20, 15,  0],\n",
    "    [ 0,  0,  0, 10, 15],\n",
    "    [ 0,  0,  0,  0, 30],\n",
    "    [ 0,  0,  0,  0,  0]\n",
    "]\n",
    "N = len(NODE_COSTS) # ノード数\n",
    "START, GOAL = 0, 4"
   ]
  },
  {
   "cell_type": "code",
   "execution_count": 5,
   "metadata": {},
   "outputs": [],
   "source": [
    "# node の子ノードのジェネレータ\n",
    "def children(node: int) -> int:\n",
    "    for child in range(N):\n",
    "        if NODE_COSTS[node][child]:\n",
    "            yield child"
   ]
  },
  {
   "cell_type": "code",
   "execution_count": 6,
   "metadata": {},
   "outputs": [
    {
     "output_type": "stream",
     "name": "stdout",
     "text": [
      "ノード 1 の距離は 0\nノード 2 の距離は 50\nノード 4 の距離は 65\nノード 3 の距離は 70\nノード 5 の距離は 85\nゴール\n"
     ]
    }
   ],
   "source": [
    "\"\"\" Dijkstra アルゴリズム \"\"\"\n",
    "costs = [10000] * N\n",
    "costs[START] = 0\n",
    "queue = [(0, START)]\n",
    "visited = set()             # 訪問済みリスト\n",
    "\n",
    "while queue:\n",
    "    node = heappop(queue)[1]\n",
    "    visited.add(node)       # 訪問済みリストに追加\n",
    "    print(f\"ノード {node+1} の距離は {costs[node]}\")\n",
    "    if node == GOAL:\n",
    "        print(\"ゴール\")\n",
    "\n",
    "    for child in children(node):    # 各子ノードに対して\n",
    "        if child not in visited:    # 未訪問なら\n",
    "\n",
    "            # 子ノードの経路コストを計算\n",
    "            costs[child] = min(costs[child], costs[node] + NODE_COSTS[node][child])\n",
    "\n",
    "            if all(v!=child for _, v in queue):         # 訪問予定でなければ\n",
    "                heappush(queue, (costs[child], child))  # 訪問予定キューに追加"
   ]
  },
  {
   "source": [
    "# 最良優先探索 Best First Search\n",
    "- 概要\n",
    "    - Dijkstra アルゴリズムの優先条件を一般の評価関数にしたもの：\n",
    "        - ノードを評価する関数を用意し、評価の高いノードから優先的に探索する\n",
    "        - Dijkstra アルゴリズムは最良優先探索の一種\n",
    "    - 最適解を最初に発見できるとは限らない\n",
    "\n",
    "- 環境\n",
    "    - Dijkstra アルゴリズムと同じ\n",
    "    - ただし、今回は神様協力のもと各ノードでそのノードを経由した時の最小の経路コストが分かるとする\n",
    "\n",
    "- 評価関数 evaluate()\n",
    "    - ノード経由時の経路コストが分かるので、ここではそれを評価値として定義する\n",
    "        - この値が小さいノードから優先的に探索する"
   ],
   "cell_type": "markdown",
   "metadata": {}
  },
  {
   "cell_type": "code",
   "execution_count": 31,
   "metadata": {},
   "outputs": [],
   "source": [
    "def evaluate(node: int) -> int:\n",
    "    return [85, 85, 85, 95, 85][node]"
   ]
  },
  {
   "cell_type": "code",
   "execution_count": 33,
   "metadata": {},
   "outputs": [
    {
     "output_type": "stream",
     "name": "stdout",
     "text": [
      "ノード 1 の経路コストは 0、評価値は 85\nノード 2 の経路コストは 50、評価値は 85\nノード 3 の経路コストは 70、評価値は 85\nノード 5 の経路コストは 85、評価値は 85\nゴール\nノード 4 の経路コストは 65、評価値は 95\n"
     ]
    }
   ],
   "source": [
    "costs = [10000] * N\n",
    "costs[START] = 0\n",
    "queue = [(evaluate(START), START)]\n",
    "visited = set()\n",
    "\n",
    "while queue:\n",
    "    node = heappop(queue)[1]\n",
    "    visited.add(node)\n",
    "    print(f\"ノード {node+1} の経路コストは {costs[node]}、評価値は {evaluate(node)}\")\n",
    "    if node == GOAL:\n",
    "        print(\"ゴール\")\n",
    "\n",
    "    for child in children(node):\n",
    "        if child not in visited:\n",
    "            costs[child] = min(costs[child], costs[node] + NODE_COSTS[node][child])\n",
    "            if all(v!=child for _, v in queue):\n",
    "                heappush(queue, (evaluate(child), child))   # 優先度を評価値で定義"
   ]
  },
  {
   "source": [
    "# A* 探索\n",
    "- 神様なんていないだろ！いい加減にしろ！\n",
    "    - （ ˘⊖˘）。o(待てよ？じゃあ推定すればよくね？)\n",
    "    - |ユークリッド空間|┗(☋｀ )┓三\n",
    "    - ( ◠‿◠ )☛ A* 探索\n",
    "\n",
    "- 評価関数\n",
    "    - 急いでる人はこちら\n",
    "        - ノード n の評価値を $ f(n) = g(n) + h(n) $ で定義する\n",
    "        - ただし $g(n)$ は n の経路コスト、$h(n)$ は n から GOAL までのコストの推定値\n",
    "    - 要するに n を経由した場合の GOAL の経路コストの推定値\n",
    "    - 肝心の $h(n)$ はどうやって推定すんだよ\n",
    "        - 迷路なら n, GOAL 間のユークリッド距離やマンハッタン距離などで定義する\n",
    "        - ここでは GOAL までの最小ノード数を10倍した値で定義する\n",
    "        - ちなみに $h(n)$ をヒューリスティック関数という\n",
    "        - $h(n)$ が許容的である（⇔ $h(n)$ が実際の値以下である）ならば、最適解を最初に発見する\n",
    "            - 参考）http://kussharo.complex.eng.hokudai.ac.jp/~kurihara/classes/AI/heuristic.pdf"
   ],
   "cell_type": "markdown",
   "metadata": {}
  },
  {
   "cell_type": "code",
   "execution_count": 50,
   "metadata": {},
   "outputs": [],
   "source": [
    "def astar_eval(node: int, costs: int) -> int:\n",
    "    return costs[node] + 10 * [2, 2, 1, 1, 0][node]  # g + h"
   ]
  },
  {
   "cell_type": "code",
   "execution_count": 51,
   "metadata": {},
   "outputs": [
    {
     "output_type": "stream",
     "name": "stdout",
     "text": [
      "ノード 1 の経路コストは 0、評価値は 20\nノード 2 の経路コストは 50、評価値は 70\nノード 4 の経路コストは 65、評価値は 75\nノード 3 の経路コストは 70、評価値は 80\nノード 5 の経路コストは 85、評価値は 85\nゴール\n"
     ]
    }
   ],
   "source": [
    "costs = [10000] * N\n",
    "costs[START] = 0\n",
    "queue = [(Astar_eval(START, costs), START)]\n",
    "visited = set()\n",
    "\n",
    "while queue:\n",
    "    node = heappop(queue)[1]\n",
    "    visited.add(node)\n",
    "    print(f\"ノード {node+1} の経路コストは {costs[node]}、評価値は {astar_eval(node, costs)}\")\n",
    "    if node == GOAL:\n",
    "        print(\"ゴール\")\n",
    "\n",
    "    for child in children(node):\n",
    "        if child not in visited:\n",
    "            costs[child] = min(costs[child], costs[node] + NODE_COSTS[node][child])\n",
    "            if all(v!=child for _, v in queue):\n",
    "                heappush(queue, (astar_eval(child, costs), child))"
   ]
  },
  {
   "source": [
    "# 包含関係\n",
    "- 幅優先探索\n",
    "    - 最良優先探索（評価関数の値が高いノードを優先的に探索するようにしたもの）\n",
    "        - A* 探索（評価関数を (その時点の経路コスト $g$ + そこからゴールまでの合計コスト $h$) で定義したもの）\n",
    "            - Dijkstra 法（$h$ を定数関数にしたもの）"
   ],
   "cell_type": "markdown",
   "metadata": {}
  },
  {
   "cell_type": "code",
   "execution_count": null,
   "metadata": {},
   "outputs": [],
   "source": []
  }
 ]
}