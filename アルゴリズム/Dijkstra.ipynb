{
 "cells": [
  {
   "cell_type": "markdown",
   "metadata": {},
   "source": [
    "2024/07/01"
   ]
  },
  {
   "cell_type": "markdown",
   "metadata": {},
   "source": [
    "# Dijkstra法\n",
    "加重グラフの最短経路距離計算・探索アルゴリズム\n",
    "- 条件\n",
    "  - `W[u, v]`: ノード`u`から`v`への重み\n",
    "  - `S, T`: 始点，終点\n",
    "- 初期化\n",
    "  - `d = [0, inf, ..., inf]`: 各ノードまでの最短経路長リスト (`d[S]`のみ0)\n",
    "  - `q = [0,   1, ..., N-1]`: 訪問予定リスト (`N`: ノード数)\n",
    "- 探索\n",
    "  - 訪問予定`q`のうち現在最短のノード`u=q[argmin(d[q])]`を選択して訪問予定から削除\n",
    "    - ※この時点で最短なら最短経路長はこれ以上更新されない (証明略)\n",
    "  - `u`から`u`の隣接ノード`v`へ移動したときの経路長`d[u]+W[u,v]`が暫定最短経路長`d[v]`より短ければ更新\n",
    "  - `q`が空なら終了\n",
    "- 経路を知りたい場合\n",
    "  - 経路長更新時，最短経路における直前ノードを保存しておく\n",
    "  - 探索後，終点から直前ノードを逆に辿る"
   ]
  },
  {
   "cell_type": "code",
   "execution_count": 1,
   "metadata": {},
   "outputs": [],
   "source": [
    "import numpy as np"
   ]
  },
  {
   "cell_type": "code",
   "execution_count": 14,
   "metadata": {},
   "outputs": [],
   "source": [
    "# 0 -> 2 -> 1 -> 4 | cost: 7\n",
    "CASE1 = np.array([\n",
    "    [0, 7, 4, 3, 0],\n",
    "    [7, 0, 1, 0, 2],\n",
    "    [4, 1, 0, 0, 6],\n",
    "    [3, 0, 0, 0, 5],\n",
    "    [0, 2, 6, 5, 0],\n",
    "]), 0, 4    # (重みW[u, v], 始点S, 終点T)\n",
    "\n",
    "# 0 -> 1 -> 2 -> 4 | cost: 85\n",
    "CASE2 = np.array([\n",
    "    [ 0, 50, 80,  0,  0],\n",
    "    [50,  0, 20, 15,  0],\n",
    "    [80, 20,  0, 10, 15],\n",
    "    [ 0, 15, 10,  0, 30],\n",
    "    [ 0,  0, 15, 30,  0],\n",
    "]), 0, 4\n",
    "\n",
    "# 0 -> 1 -> 2 -> 5 -> 6 | cost: 30\n",
    "CASE3 = np.array([\n",
    "    [ 0, 8,16, 0, 0, 0, 0],\n",
    "    [ 8, 0, 7, 6,19, 0, 0],\n",
    "    [16, 7, 0, 5, 0, 8, 0],\n",
    "    [ 0, 6, 5, 0,14,14, 0],\n",
    "    [ 0,19, 0,14, 0,11, 7],\n",
    "    [ 0, 0, 8,14,11, 0, 7],\n",
    "    [ 0, 0, 0, 0, 7, 7, 0],\n",
    "]), 0, 6"
   ]
  },
  {
   "cell_type": "code",
   "execution_count": 15,
   "metadata": {},
   "outputs": [
    {
     "data": {
      "text/plain": [
       "array([ 0.,  8., 15., 14., 27., 23., 30.])"
      ]
     },
     "execution_count": 15,
     "metadata": {},
     "output_type": "execute_result"
    }
   ],
   "source": [
    "W, S, T = CASE3\n",
    "N = len(W)\n",
    "\n",
    "d = np.full(N, np.inf)  # 最短経路長\n",
    "d[S] = 0\n",
    "q = list(range(N))      # 探索予定\n",
    "while q:\n",
    "    u = q.pop(d[q].argmin())    # 訪問予定のうち現在最短のノード\n",
    "    for v in np.where(W[u])[0]: # 隣接ノードを更新できればする\n",
    "        d[v] = min(d[v], d[u]+W[u, v])\n",
    "d"
   ]
  },
  {
   "cell_type": "markdown",
   "metadata": {},
   "source": [
    "経路を知りたい場合 (🌟を追加)"
   ]
  },
  {
   "cell_type": "code",
   "execution_count": 16,
   "metadata": {},
   "outputs": [
    {
     "data": {
      "text/plain": [
       "[0, 1, 2, 5, 6]"
      ]
     },
     "execution_count": 16,
     "metadata": {},
     "output_type": "execute_result"
    }
   ],
   "source": [
    "W, S, T = CASE3\n",
    "N = len(W)\n",
    "\n",
    "d = np.full(N, np.inf)  # 最短経路長\n",
    "d[S] = 0\n",
    "q = list(range(N))      # 探索予定\n",
    "prev = np.full(N, -1)   # 🌟最短経路における直前ノード\n",
    "while q:\n",
    "    u = q.pop(d[q].argmin())    # 訪問予定のうち現在最短のノード\n",
    "    for v in np.where(W[u])[0]: # 隣接ノードを更新できればする\n",
    "        if d[u] + W[u, v] < d[v]:\n",
    "            d[v] = d[u] + W[u, v]\n",
    "            prev[v] = u # 🌟直前ノードも更新\n",
    "\n",
    "# 🌟直前ノードを逆走して最短経路を構築\n",
    "route = [T]\n",
    "while route[-1] != S:\n",
    "    route.append(prev[route[-1]])\n",
    "route[::-1]"
   ]
  },
  {
   "cell_type": "code",
   "execution_count": null,
   "metadata": {},
   "outputs": [],
   "source": []
  }
 ],
 "metadata": {
  "kernelspec": {
   "display_name": "venv3.12",
   "language": "python",
   "name": "python3"
  },
  "language_info": {
   "codemirror_mode": {
    "name": "ipython",
    "version": 3
   },
   "file_extension": ".py",
   "mimetype": "text/x-python",
   "name": "python",
   "nbconvert_exporter": "python",
   "pygments_lexer": "ipython3",
   "version": "3.12.3"
  }
 },
 "nbformat": 4,
 "nbformat_minor": 2
}
