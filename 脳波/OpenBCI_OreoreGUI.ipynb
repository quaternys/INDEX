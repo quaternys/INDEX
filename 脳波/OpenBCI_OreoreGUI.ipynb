{
 "cells": [
  {
   "cell_type": "markdown",
   "metadata": {},
   "source": [
    "2023/09/26\n",
    "\n",
    "# OpenBCI Python版GUI\n",
    "\n",
    "💻使い方\n",
    "- `pip install -U setuptools numpy scipy brainflow pygame`\n",
    "- あとは上から実行していくだけ．\n",
    "  - `Board()` の `port` 引数だけ変える必要あるかも（詳細は今後の更新で）"
   ]
  },
  {
   "cell_type": "markdown",
   "metadata": {},
   "source": [
    "## Why オレオレ GUI?\n",
    "- 😎CS学徒にとって実行・実験管理が簡単\n",
    "  - 脳波時系列データはGUI実行中も実行後も，好きなタイミングで `board.get_board_data()` で取得し，解析できる．\n",
    "  - 刺激呈示と脳波の時刻合わせをプログラムで厳密に管理できる．\n",
    "- 🤩必要最低限のコード\n",
    "  - カスタマイズが容易\n",
    "  - 脳波の原理からの理解に役立つ"
   ]
  },
  {
   "cell_type": "code",
   "execution_count": 2,
   "metadata": {},
   "outputs": [
    {
     "name": "stdout",
     "output_type": "stream",
     "text": [
      "pygame 2.5.2 (SDL 2.28.3, Python 3.11.4)\n",
      "Hello from the pygame community. https://www.pygame.org/contribute.html\n"
     ]
    }
   ],
   "source": [
    "import numpy as np\n",
    "from scipy import signal\n",
    "import brainflow, pygame\n",
    "from pygame.locals import *\n",
    "colors = [(255, 255, 255), (0,0,255), (0,255,255), (0,255,0), (255,255,0), (255,0,0), (255,0,255), (255,255,255)]"
   ]
  },
  {
   "cell_type": "code",
   "execution_count": 3,
   "metadata": {},
   "outputs": [],
   "source": [
    "def normalize(X, sfreq=250, fmin=5, fmax=40):\n",
    "    X = signal.lfilter(*signal.iirnotch(50, 4, sfreq), X, axis=1)\n",
    "    X = signal.lfilter(*signal.butter(5, np.array([fmin, fmax])/(sfreq/2), btype=\"bandpass\"), X, axis=1)\n",
    "    return X"
   ]
  },
  {
   "cell_type": "code",
   "execution_count": 4,
   "metadata": {},
   "outputs": [],
   "source": [
    "class Board(brainflow.BoardShim):\n",
    "    def __init__(self, port=\"COM3\", sfreq=250):\n",
    "        params = brainflow.BrainFlowInputParams()\n",
    "        params.serial_port = port\n",
    "        super().__init__(brainflow.BoardIds.CYTON_BOARD, params)\n",
    "\n",
    "        self.prepare_session()\n",
    "        for ch in range(1, 9):\n",
    "            self.config_board(f\"x{ch}030110X\")\n",
    "            print(end=\".\")\n",
    "        print(\"ready\")\n",
    "        self.start_stream()\n",
    "        \n",
    "        self.data_tot = np.zeros((8, 1000))\n",
    "        self.sfreq = sfreq\n",
    "\n",
    "    def get_data(self, trange=3):\n",
    "        N = trange * self.sfreq\n",
    "        data_new = self.get_board_data()[1:9]\n",
    "        self.data_tot = np.concatenate([self.data_tot, data_new], 1)\n",
    "        X = normalize(self.data_tot[:, -2*N:], fmin=5)[:, -N:]\n",
    "        return X\n",
    "    \n",
    "    def switch_stream(self):\n",
    "        if self.is_streaming:\n",
    "            self.stop_stream()\n",
    "        else:\n",
    "            self.start_stream()\n",
    "\n",
    "    def start_stream(self, num_samples: int = 1800 * 250, streamer_params: str = None) -> None:\n",
    "        self.is_streaming = True\n",
    "        return super().start_stream(num_samples, streamer_params)\n",
    "    \n",
    "    def stop_stream(self) -> None:\n",
    "        self.is_streaming = False\n",
    "        return super().stop_stream()"
   ]
  },
  {
   "cell_type": "code",
   "execution_count": 47,
   "metadata": {},
   "outputs": [],
   "source": [
    "class App:\n",
    "    def __init__(self, board, width=640, height=480, fps=20):\n",
    "        self.W = width\n",
    "        self.H = height\n",
    "        self.fps = fps\n",
    "        self.board = board\n",
    "        pygame.init()\n",
    "        self.screen = pygame.display.set_mode((width, height))\n",
    "        self.clock = pygame.time.Clock()\n",
    "        self.font = pygame.font.SysFont(\"Times New Roman\", 20)\n",
    "        \n",
    "    def init_screen(self):\n",
    "        for event in pygame.event.get():\n",
    "            if event.type == pygame.KEYDOWN:\n",
    "                if event.key == pygame.K_SPACE:\n",
    "                    self.board.switch_stream()\n",
    "            if event.type == pygame.QUIT:\n",
    "                pygame.quit()\n",
    "                return pygame.QUIT\n",
    "        self.clock.tick(self.fps)\n",
    "        self.screen.fill(0)\n",
    "\n",
    "    def draw_waves(self, data, left=0, top=0, right=640, bottom=480, trange=3, maxuV=200):\n",
    "        W = right - left\n",
    "        H = bottom - top\n",
    "        h = H // 16 # 振幅の半分のピクセル数\n",
    "        x = np.linspace(left, right, data.shape[1])\n",
    "        Y = h + data.clip(-maxuV, maxuV) * h / maxuV\n",
    "        for i, y in enumerate(Y):\n",
    "            topi = top + 2 * h * i\n",
    "            pygame.draw.lines(self.screen, colors[i], False, np.c_[x, y+topi])\n",
    "            pygame.draw.line(self.screen, \"white\", (left, topi), (right, topi))\n",
    "        pygame.draw.line(self.screen, \"white\", (left, bottom), (right, bottom))\n",
    "\n",
    "        for x in np.linspace(right, left, trange+1).astype(int):\n",
    "            pygame.draw.line(self.screen, \"gray\", (x, top), (x, bottom))\n",
    "\n",
    "    def draw_spec(self, data, left=0, top=0, right=640, bottom=480, lim=100):\n",
    "        freq, Vs = signal.welch(data, self.board.sfreq, scaling=\"spectrum\")\n",
    "        As_log = np.log(Vs[:, :63] * data.shape[1] * 1e-3)\n",
    "        Y = (top - bottom) * As_log.clip(0, lim) / lim + bottom\n",
    "        x = np.linspace(left, right, Y.shape[1])\n",
    "        for i, y in enumerate(Y):\n",
    "            pygame.draw.lines(self.screen, colors[i], False, np.c_[x, y])\n",
    "        for freq in range(0, 61, 10):\n",
    "            x = left + (right-left) * freq / 60\n",
    "            pygame.draw.line(self.screen, \"gray\", (x, top), (x, bottom))\n",
    "        pygame.draw.line(self.screen, \"gray\", (left, top), (right, top))\n",
    "        pygame.draw.line(self.screen, \"gray\", (left, bottom), (right, bottom))\n",
    "\n",
    "    def main(self, trange=3):\n",
    "        for frame in range(9999):\n",
    "            if self.init_screen() == pygame.QUIT:\n",
    "                break\n",
    "            data = self.board.get_data(trange)\n",
    "            self.draw_waves(data, 0, 0, self.W//2, self.H, trange)\n",
    "            self.draw_spec(data, self.W//2, 0, self.W, self.H//2, lim=20)\n",
    "            pygame.display.update()"
   ]
  },
  {
   "cell_type": "code",
   "execution_count": 7,
   "metadata": {},
   "outputs": [
    {
     "name": "stdout",
     "output_type": "stream",
     "text": [
      "........ready\n"
     ]
    }
   ],
   "source": [
    "board = Board(port=\"COM3\")  # USBドングル挿してるポートを指定．Ubuntuなら port=\"/dev/ttyUSB0\" など"
   ]
  },
  {
   "cell_type": "code",
   "execution_count": 48,
   "metadata": {},
   "outputs": [],
   "source": [
    "app = App(board, 960, 640)\n",
    "app.main()"
   ]
  },
  {
   "cell_type": "code",
   "execution_count": 165,
   "metadata": {},
   "outputs": [],
   "source": [
    "board.release_session()"
   ]
  },
  {
   "cell_type": "code",
   "execution_count": null,
   "metadata": {},
   "outputs": [],
   "source": []
  },
  {
   "cell_type": "code",
   "execution_count": null,
   "metadata": {},
   "outputs": [],
   "source": []
  }
 ],
 "metadata": {
  "kernelspec": {
   "display_name": "venv",
   "language": "python",
   "name": "python3"
  },
  "language_info": {
   "codemirror_mode": {
    "name": "ipython",
    "version": 3
   },
   "file_extension": ".py",
   "mimetype": "text/x-python",
   "name": "python",
   "nbconvert_exporter": "python",
   "pygments_lexer": "ipython3",
   "version": "3.10.12"
  },
  "orig_nbformat": 4
 },
 "nbformat": 4,
 "nbformat_minor": 2
}
