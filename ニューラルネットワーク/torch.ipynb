{
 "cells": [
  {
   "attachments": {},
   "cell_type": "markdown",
   "metadata": {},
   "source": [
    "2023/04/23"
   ]
  },
  {
   "attachments": {},
   "cell_type": "markdown",
   "metadata": {},
   "source": [
    "# 概要"
   ]
  },
  {
   "attachments": {},
   "cell_type": "markdown",
   "metadata": {},
   "source": [
    "- PyTorch (+ GPU) の環境構築手順とサンプルコード\n",
    "  - `環境構築.ipynb` が長くなりすぎたので最小限の内容で作り直したものです．\n",
    "  - ※個人的に研究用途ではTensorFlowよりPyTorch推奨．\n",
    "- 対応OS: Windows/Ubuntu\n",
    "  - Ubuntuのほうが実験的に明らかに高速なので推奨します．"
   ]
  },
  {
   "attachments": {},
   "cell_type": "markdown",
   "metadata": {},
   "source": [
    "# 環境構築\n"
   ]
  },
  {
   "attachments": {},
   "cell_type": "markdown",
   "metadata": {},
   "source": [
    "## 1. NVIDIA driver のインストール\n",
    "CPUでやる場合不要．"
   ]
  },
  {
   "attachments": {},
   "cell_type": "markdown",
   "metadata": {},
   "source": [
    "### Windows\n",
    "- [GeForce Experience アプリ](https://www.nvidia.com/ja-jp/geforce/geforce-experience/) を使うと自動で更新通知が来て楽（要ユーザ登録）．\n",
    "  - 手動でやる場合：ドライバ単体を https://www.nvidia.co.jp/Download/index.aspx?lang=jp から落としてもよい．\n",
    "- インストール後再起動し，`> nvidia-smi` が動くか確認．\n",
    "### Ubuntu\n",
    "```$ sudo apt install nvidia-driver-525```\n",
    "- インストール後再起動し，`> nvidia-smi` が動くか確認．\n",
    "- 補足：`$ ubuntu-drivers devices` で確認できるもののうち，recommendedと付いているもの．ただし末尾の`-open`などは消す．"
   ]
  },
  {
   "attachments": {},
   "cell_type": "markdown",
   "metadata": {},
   "source": [
    "## 2. PyTorchのインストール\n",
    "- https://pytorch.org/ で自分の環境に合わせたインストールコマンドを取得し，実行するだけ．\n",
    "- たとえば Stable (2.0.0) + Windows + Pip + Python + CUDA 11.8 なら\n",
    "```sh\n",
    "pip3 install torch torchvision torchaudio --index-url https://download.pytorch.org/whl/cu118\n",
    "```\n",
    "- CUDA, cuDNN も一緒に入るのでインストール不要．"
   ]
  },
  {
   "attachments": {},
   "cell_type": "markdown",
   "metadata": {},
   "source": [
    "# サンプルコード"
   ]
  },
  {
   "cell_type": "code",
   "execution_count": 1,
   "metadata": {},
   "outputs": [
    {
     "data": {
      "text/plain": [
       "'2.0.0+cu118'"
      ]
     },
     "execution_count": 1,
     "metadata": {},
     "output_type": "execute_result"
    }
   ],
   "source": [
    "# バージョン確認．CPU版の場合 \"+cu118\" のような表記がないことに注意．\n",
    "import torch\n",
    "torch.__version__"
   ]
  },
  {
   "cell_type": "code",
   "execution_count": 2,
   "metadata": {},
   "outputs": [
    {
     "data": {
      "text/plain": [
       "True"
      ]
     },
     "execution_count": 2,
     "metadata": {},
     "output_type": "execute_result"
    }
   ],
   "source": [
    "# CUDAが使えることを確認\n",
    "torch.cuda.is_available()"
   ]
  },
  {
   "cell_type": "code",
   "execution_count": 3,
   "metadata": {},
   "outputs": [],
   "source": [
    "# MNISTデータセットの読み込み\n",
    "from torchvision import transforms, datasets\n",
    "data_tr = datasets.MNIST(\"~/data/\", train=True,  transform=transforms.ToTensor(), download=True)\n",
    "data_te = datasets.MNIST(\"~/data/\", train=False, transform=transforms.ToTensor(), download=True)"
   ]
  },
  {
   "cell_type": "code",
   "execution_count": 4,
   "metadata": {},
   "outputs": [
    {
     "name": "stdout",
     "output_type": "stream",
     "text": [
      "torch.Size([1, 28, 28])\n",
      "5\n"
     ]
    },
    {
     "data": {
      "text/plain": [
       "<matplotlib.colorbar.Colorbar at 0x29923d573d0>"
      ]
     },
     "execution_count": 4,
     "metadata": {},
     "output_type": "execute_result"
    },
    {
     "data": {
      "image/png": "[encoded data removed]",
      "text/plain": [
       "<Figure size 640x480 with 2 Axes>"
      ]
     },
     "metadata": {},
     "output_type": "display_data"
    }
   ],
   "source": [
    "# 最初のデータを確認\n",
    "x0, y0 = data_tr[0]\n",
    "print(x0.shape) # 入力：(channels, height, width)\n",
    "print(y0)       # 出力：整数\n",
    "\n",
    "# 画像の確認\n",
    "import matplotlib.pyplot as plt\n",
    "plt.imshow(x0[0])   # 白黒なので0チャンネル目だけ描画\n",
    "plt.colorbar()      # 画素値∈[0, 1]"
   ]
  },
  {
   "cell_type": "code",
   "execution_count": 5,
   "metadata": {},
   "outputs": [],
   "source": [
    "# ミニバッチ化\n",
    "loader_tr = torch.utils.data.DataLoader(data_tr, batch_size=256, shuffle=True)\n",
    "loader_te = torch.utils.data.DataLoader(data_te, batch_size=256, shuffle=True)"
   ]
  },
  {
   "cell_type": "code",
   "execution_count": 6,
   "metadata": {},
   "outputs": [
    {
     "name": "stdout",
     "output_type": "stream",
     "text": [
      "torch.Size([256, 1, 28, 28])\n",
      "torch.Size([256])\n",
      "tensor([9, 5, 7, 7, 5])\n"
     ]
    }
   ],
   "source": [
    "# 最初のバッチを確認（データをバッチサイズ分並べただけ）\n",
    "for x0, y0 in loader_tr:\n",
    "    break\n",
    "print(x0.shape)\n",
    "print(y0.shape)\n",
    "print(y0[:5])"
   ]
  },
  {
   "cell_type": "code",
   "execution_count": 7,
   "metadata": {},
   "outputs": [],
   "source": [
    "# モデル定義（単純な多層パーセプトロン）\n",
    "class MLP(torch.nn.Module):\n",
    "    def __init__(self):\n",
    "        super().__init__()\n",
    "        self.fc1 = torch.nn.Linear(28*28, 1024) # 線形層\n",
    "        self.fc2 = torch.nn.Linear(1024, 1024)  # 線形層\n",
    "        self.fc3 = torch.nn.Linear(1024, 10)    # 線形層\n",
    "        self.criterion = torch.nn.CrossEntropyLoss()            # 損失関数\n",
    "        self.optimizer = torch.optim.Adam(self.parameters())    # 最適化手法\n",
    "        self.cuda() # GPUメモリへ転送\n",
    "\n",
    "    def forward(self, x):\n",
    "        x = x.view(-1, 28*28)   # (N, 1, 28, 28) -> (N, 28*28)\n",
    "        x = self.fc1(x).relu()\n",
    "        x = self.fc2(x).relu()\n",
    "        x = self.fc3(x)\n",
    "        return x\n",
    "    \n",
    "    def fit(self):\n",
    "        for batch, (x, y) in enumerate(loader_tr, 1):\n",
    "            x, y = x.cuda(), y.cuda()   # GPUメモリへ転送\n",
    "            p = self(x)                 # 順伝播\n",
    "            loss = self.criterion(p, y) # 損失計算\n",
    "            self.optimizer.zero_grad()  # 勾配初期化\n",
    "            loss.backward()             # 逆伝播\n",
    "            self.optimizer.step()       # 更新\n",
    "            print(f\"\\r{batch} / {len(loader_tr)}\", end=\"\")\n",
    "    \n",
    "    @torch.no_grad()    # テスト時は勾配計算を省略して高速化\n",
    "    def test(self):\n",
    "        p = self(data_te.data.cuda()/255)               # 推論\n",
    "        y = data_te.targets.cuda()                      # 正解\n",
    "        loss = self.criterion(p, y).item()              # 損失\n",
    "        acc = (p.argmax(1) == y).float().mean().item()  # 精度\n",
    "        return loss, acc"
   ]
  },
  {
   "cell_type": "code",
   "execution_count": 8,
   "metadata": {},
   "outputs": [
    {
     "name": "stdout",
     "output_type": "stream",
     "text": [
      "235 / 235\t[ 1 / 10] loss: 0.1264 - acc: 0.9614\n",
      "235 / 235\t[ 2 / 10] loss: 0.0788 - acc: 0.9748\n",
      "235 / 235\t[ 3 / 10] loss: 0.0646 - acc: 0.9794\n",
      "235 / 235\t[ 4 / 10] loss: 0.0628 - acc: 0.9811\n",
      "235 / 235\t[ 5 / 10] loss: 0.0756 - acc: 0.9765\n",
      "235 / 235\t[ 6 / 10] loss: 0.0681 - acc: 0.9808\n",
      "235 / 235\t[ 7 / 10] loss: 0.0811 - acc: 0.9796\n",
      "235 / 235\t[ 8 / 10] loss: 0.0741 - acc: 0.9814\n",
      "235 / 235\t[ 9 / 10] loss: 0.0823 - acc: 0.9792\n",
      "235 / 235\t[10 / 10] loss: 0.0891 - acc: 0.9791\n",
      "CPU times: total: 34.3 s\n",
      "Wall time: 1min 27s\n"
     ]
    }
   ],
   "source": [
    "%%time\n",
    "model = MLP()                   # モデルのインスタンス化\n",
    "for epoch in range(1, 11):\n",
    "    model.fit()                 # 訓練\n",
    "    loss, acc = model.test()    # テスト\n",
    "    print(f\"\\t[{epoch:2} / 10] loss: {loss:.4f} - acc: {acc:.4f}\")"
   ]
  },
  {
   "cell_type": "code",
   "execution_count": null,
   "metadata": {},
   "outputs": [],
   "source": []
  }
 ],
 "metadata": {
  "kernelspec": {
   "display_name": "venv",
   "language": "python",
   "name": "python3"
  },
  "language_info": {
   "codemirror_mode": {
    "name": "ipython",
    "version": 3
   },
   "file_extension": ".py",
   "mimetype": "text/x-python",
   "name": "python",
   "nbconvert_exporter": "python",
   "pygments_lexer": "ipython3",
   "version": "3.10.9"
  },
  "orig_nbformat": 4
 },
 "nbformat": 4,
 "nbformat_minor": 2
}
