{
 "cells": [
  {
   "attachments": {},
   "cell_type": "markdown",
   "metadata": {},
   "source": [
    "- 2022/05/15\n",
    "- TensorFlow, PyTorch + GPU の環境構築手順と実装例．\n",
    "  - 基本Windows用．いずれUbuntuにも対応予定．"
   ]
  },
  {
   "cell_type": "markdown",
   "metadata": {},
   "source": [
    "# ガイド"
   ]
  },
  {
   "attachments": {},
   "cell_type": "markdown",
   "metadata": {},
   "source": [
    "- OSは**Ubuntu**を推奨\n",
    "  - 個人的な実験から，同じハードウェア構成でも速度は Windows < WSL < 純Ubuntu\n",
    "- フレームワークは**PyTorch**を推奨\n",
    "  - TensorFlowは簡潔だが自由度が低い．用途はデータ分析・ビジネス寄り．\n",
    "  - PyTorchは学習アルゴリズムも細かく書くが，自由度が高い．用途は研究寄り．環境構築手数も少ない．\n",
    "\n",
    "## 環境別　必要な作業\n",
    "- 共通\n",
    "  - NVIDIA Driver のインストール\n",
    "- Ubuntu + PyTorch\n",
    "  - `pip3 install torch torchvision torchaudio` だけ（CUDA, cuDNNが同梱されている）\n",
    "- Ubuntu + Tensorflow\n",
    "  - CUDA, cuDNN のインストール\n",
    "  - `pip3 install tensorflow`\n",
    "- Windows + PyTorch\n",
    "- Windows + Tensorflow\n",
    "  - WSL2が必須"
   ]
  },
  {
   "attachments": {},
   "cell_type": "markdown",
   "metadata": {},
   "source": [
    "# CUDA"
   ]
  },
  {
   "attachments": {},
   "cell_type": "markdown",
   "metadata": {},
   "source": [
    "TensorFlowやPyTorchでGPUを使う場合、NVIDIA製GPU、CUDA Toolkit、cuDNNが必要となる。以下手順。\n",
    "\n",
    "1. GPU（NVIDIA製）のドライバーを最新にする．\n",
    "   - WindowsはNVIDIA GeForce Experienceアプリを使うと更新通知が来るので便利．\n",
    "   - Ubuntuはお使いのパッケージ管理ツールで．\n",
    "     - DL元が複数あり，やや面倒．いずれ詳細を書く．\n",
    "2. https://developer.nvidia.com/cuda-toolkit-archive から CUDA Toolkit をダウンロード＆インストールする。\n",
    "   - [PyTorch公式サイト](https://pytorch.org/) でPyTorchが対応するCUDAのバージョンに合わせたほうがいいが、ぶっちゃけ最新版でもたいてい動く。\n",
    "3. https://developer.nvidia.com/rdp/cudnn-download から CUDA Toolkit に対応するバージョンの cuDNN をダウンロードする（要ユーザ登録）。\n",
    "4. 展開したフォルダの中身（`bin/`, `include/`など）を `C:\\Program Files\\NVIDIA GPU Computing Toolkit\\CUDA\\v11.x\\` にぶちまける。\n",
    "5. 再起動する（重要）。"
   ]
  },
  {
   "attachments": {},
   "cell_type": "markdown",
   "metadata": {},
   "source": [
    "2022/05/15時点の最新バージョンは以下の通り。\n",
    "- GPUドライバー：516.01\n",
    "- CUDA 11.7.0\n",
    "  - `> nvcc -V` で確認できる。\n",
    "  - `> nvidia-smi` で確認できるのはGPUドライバーが対応するCUDAのバージョンであり、実際にそれをインストールしているかどうかはわからない。\n",
    "- cuDNN v8.4.0\n",
    "  - `.../11.x/include/cudnn_version.h` で確認できる。"
   ]
  },
  {
   "cell_type": "code",
   "execution_count": 1,
   "metadata": {},
   "outputs": [
    {
     "name": "stdout",
     "output_type": "stream",
     "text": [
      "nvcc: NVIDIA (R) Cuda compiler driver\n",
      "Copyright (c) 2005-2022 NVIDIA Corporation\n",
      "Built on Wed_Sep_21_10:41:10_Pacific_Daylight_Time_2022\n",
      "Cuda compilation tools, release 11.8, V11.8.89\n",
      "Build cuda_11.8.r11.8/compiler.31833905_0\n"
     ]
    }
   ],
   "source": [
    "# CUDAバージョン確認\n",
    "!nvcc -V"
   ]
  },
  {
   "attachments": {},
   "cell_type": "markdown",
   "metadata": {},
   "source": [
    "# TensorFlow vs. PyTorch"
   ]
  },
  {
   "attachments": {},
   "cell_type": "markdown",
   "metadata": {},
   "source": [
    "- 一般的な傾向\n",
    "  - TF (Google)\n",
    "    - とにかく短いコードで書ける．\n",
    "  - PyTorch (Meta)\n",
    "    - 日本製 Chainer (PFN) をベースとする．\n",
    "    - 学習アルゴリズムレベルで細かく書くことが多く，柔軟性が高い．\n",
    "  - 逆にTFでもアルゴリズムレベルで書けるし，PyTorchでもTFライクに書けるが，一般的にはそんな傾向がある．\n",
    "  - 年々PyTorchのシェアが上昇し，2020年頃にTFを追い抜いているらしい．\n",
    "  - データ分析やビジネス用途ではTF，研究用途ではPyTorchと棲み分けされている雰囲気．\n",
    "- 個人的にはPyTorchを推奨．"
   ]
  },
  {
   "attachments": {},
   "cell_type": "markdown",
   "metadata": {},
   "source": [
    "# TensorFlow"
   ]
  },
  {
   "attachments": {},
   "cell_type": "markdown",
   "metadata": {},
   "source": [
    "- https://www.tensorflow.org/\n",
    "- <span style=\"color: red;\">TF2.11以降はWindowsユーザーはWSLでないとGPUが使えなくなった模様。</span>\n",
    "  - WindowsユーザーはWSLかTF2.10を使いましょう．\n",
    "\n",
    "インストール\n",
    "1. `pip install tensorflow==2.10`\n",
    "2. 終わり。\n",
    "\n",
    "トラブルシューティング\n",
    "- Pythonの**メジャーアップデート直後**は対応していないことが多いので注意。\n",
    "  - [ここで確認できる。](https://pypi.org/project/tensorflow-gpu/#files)\n",
    "- 何か問題がある時は**コマンドライン上で動かしてみる**とよい．\n",
    "  - Jupyter上では出ない情報が出ることがある．\n",
    "- <span style=\"color: red;\">JupyterでCNN使用時，**Kernel Crash**が発生！！</span>\n",
    "  - コマンドラインでやると「Could not locate zlibwapi.dll」と言われる．\n",
    "  - [ここ](https://docs.nvidia.com/deeplearning/cudnn/install-guide/index.html#install-zlib-windows)からダウンロードし、その中の`dll_x64/zlibwapi.dll`を`.../v11.x/bin/`（パスの通っているところ）に入れて解決。\n",
    "  - エンカ率高いかも．"
   ]
  },
  {
   "cell_type": "code",
   "execution_count": 1,
   "metadata": {},
   "outputs": [
    {
     "data": {
      "text/plain": [
       "'2.10.0'"
      ]
     },
     "execution_count": 1,
     "metadata": {},
     "output_type": "execute_result"
    }
   ],
   "source": [
    "# バージョン確認\n",
    "import tensorflow as tf\n",
    "tf.__version__"
   ]
  },
  {
   "cell_type": "code",
   "execution_count": 2,
   "metadata": {},
   "outputs": [
    {
     "data": {
      "text/plain": [
       "[name: \"/device:CPU:0\"\n",
       " device_type: \"CPU\"\n",
       " memory_limit: 268435456\n",
       " locality {\n",
       " }\n",
       " incarnation: 10013835394302677596\n",
       " xla_global_id: -1,\n",
       " name: \"/device:GPU:0\"\n",
       " device_type: \"GPU\"\n",
       " memory_limit: 4163895296\n",
       " locality {\n",
       "   bus_id: 1\n",
       "   links {\n",
       "   }\n",
       " }\n",
       " incarnation: 13516921266504390878\n",
       " physical_device_desc: \"device: 0, name: NVIDIA GeForce GTX 1660 Ti, pci bus id: 0000:01:00.0, compute capability: 7.5\"\n",
       " xla_global_id: 416903419]"
      ]
     },
     "execution_count": 2,
     "metadata": {},
     "output_type": "execute_result"
    }
   ],
   "source": [
    "# GPUを認識しているか確認\n",
    "from tensorflow.python.client import device_lib\n",
    "# 戻り値のリストの1つ目がCPU、2つ目がGPU\n",
    "device_lib.list_local_devices()"
   ]
  },
  {
   "attachments": {},
   "cell_type": "markdown",
   "metadata": {},
   "source": [
    "使用例"
   ]
  },
  {
   "cell_type": "code",
   "execution_count": 3,
   "metadata": {},
   "outputs": [],
   "source": [
    "# MNISTデータセットの読み込み\n",
    "(x_tr, y_tr), (x_te, y_te) = tf.keras.datasets.mnist.load_data()"
   ]
  },
  {
   "cell_type": "code",
   "execution_count": 4,
   "metadata": {},
   "outputs": [
    {
     "name": "stdout",
     "output_type": "stream",
     "text": [
      "(60000, 28, 28) (10000, 28, 28)\n",
      "(60000,) (10000,)\n",
      "[5 0 4 1 9 2 1 3 1 4]\n"
     ]
    },
    {
     "data": {
      "text/plain": [
       "<matplotlib.colorbar.Colorbar at 0x1f3f7cb0af0>"
      ]
     },
     "execution_count": 4,
     "metadata": {},
     "output_type": "execute_result"
    },
    {
     "data": {
      "image/png": "[encoded data removed]",
      "text/plain": [
       "<Figure size 432x288 with 2 Axes>"
      ]
     },
     "metadata": {
      "needs_background": "light"
     },
     "output_type": "display_data"
    }
   ],
   "source": [
    "# データセット内容の確認\n",
    "import matplotlib.pyplot as plt\n",
    "\n",
    "print(x_tr.shape, x_te.shape)   # データ数×グレースケール画像（2次元配列）\n",
    "print(y_tr.shape, y_te.shape)   # データ数×ラベル（0-9の整数）\n",
    "print(y_tr[:10])                # ラベルは0-9の整数\n",
    "\n",
    "plt.imshow(x_tr[0])             # 0枚目の画像\n",
    "plt.colorbar()"
   ]
  },
  {
   "cell_type": "code",
   "execution_count": 5,
   "metadata": {},
   "outputs": [],
   "source": [
    "# チャンネル次元を追加し（CNNで必要）、ついでに正規化\n",
    "x_tr = x_tr.reshape(-1, 28, 28, 1) / 255\n",
    "x_te = x_te.reshape(-1, 28, 28, 1) / 255"
   ]
  },
  {
   "cell_type": "code",
   "execution_count": 6,
   "metadata": {},
   "outputs": [],
   "source": [
    "# 多層NNの作成\n",
    "from tensorflow.keras.models import Sequential\n",
    "from tensorflow.keras.layers import Flatten, Dense\n",
    "\n",
    "model = Sequential()\n",
    "model.add(Flatten(input_shape=x_tr[0].shape))\n",
    "model.add(Dense(128, \"relu\"))\n",
    "model.add(Dense(10, \"softmax\"))"
   ]
  },
  {
   "cell_type": "code",
   "execution_count": 7,
   "metadata": {},
   "outputs": [
    {
     "name": "stdout",
     "output_type": "stream",
     "text": [
      "Epoch 1/5\n",
      "1875/1875 [==============================] - 18s 7ms/step - loss: 0.2597 - acc: 0.9260 - val_loss: 0.1399 - val_acc: 0.9587\n",
      "Epoch 2/5\n",
      "1875/1875 [==============================] - 14s 7ms/step - loss: 0.1114 - acc: 0.9673 - val_loss: 0.1012 - val_acc: 0.9681\n",
      "Epoch 3/5\n",
      "1875/1875 [==============================] - 14s 7ms/step - loss: 0.0770 - acc: 0.9766 - val_loss: 0.0886 - val_acc: 0.9729\n",
      "Epoch 4/5\n",
      "1875/1875 [==============================] - 15s 8ms/step - loss: 0.0568 - acc: 0.9824 - val_loss: 0.0811 - val_acc: 0.9742\n",
      "Epoch 5/5\n",
      "1875/1875 [==============================] - 14s 7ms/step - loss: 0.0444 - acc: 0.9858 - val_loss: 0.0686 - val_acc: 0.9774\n"
     ]
    }
   ],
   "source": [
    "# モデルをコンパイルして学習実行\n",
    "model.compile(\"adam\", \"sparse_categorical_crossentropy\", metrics=[\"acc\"])\n",
    "history = model.fit(x_tr, y_tr, epochs=5, validation_data=(x_te, y_te))"
   ]
  },
  {
   "cell_type": "code",
   "execution_count": 8,
   "metadata": {},
   "outputs": [
    {
     "data": {
      "text/plain": [
       "<matplotlib.legend.Legend at 0x1f3f4453820>"
      ]
     },
     "execution_count": 8,
     "metadata": {},
     "output_type": "execute_result"
    },
    {
     "data": {
      "image/png": "[encoded data removed]",
      "text/plain": [
       "<Figure size 432x288 with 1 Axes>"
      ]
     },
     "metadata": {
      "needs_background": "light"
     },
     "output_type": "display_data"
    }
   ],
   "source": [
    "# 学習曲線\n",
    "for label, metric in history.history.items():\n",
    "    plt.plot(metric, label=label)\n",
    "plt.legend()"
   ]
  },
  {
   "cell_type": "code",
   "execution_count": 9,
   "metadata": {},
   "outputs": [
    {
     "data": {
      "text/plain": [
       "<tf.Tensor: shape=(1, 10), dtype=float32, numpy=\n",
       "array([[2.7824021e-10, 1.5800021e-08, 1.8044743e-08, 9.4208438e-03,\n",
       "        8.2259168e-17, 9.9057895e-01, 4.6476305e-13, 8.6219600e-08,\n",
       "        4.4627853e-09, 2.2625970e-08]], dtype=float32)>"
      ]
     },
     "execution_count": 9,
     "metadata": {},
     "output_type": "execute_result"
    }
   ],
   "source": [
    "# 0枚目の画像の文字を予測：最大値のインデックスは4なので，数字の\"5\"と判定できている．\n",
    "model(x_tr[:1])"
   ]
  },
  {
   "cell_type": "code",
   "execution_count": 10,
   "metadata": {},
   "outputs": [
    {
     "name": "stdout",
     "output_type": "stream",
     "text": [
      "Epoch 1/5\n",
      "1875/1875 [==============================] - 30s 12ms/step - loss: 0.1052 - acc: 0.9676 - val_loss: 0.0706 - val_acc: 0.9795\n",
      "Epoch 2/5\n",
      "1875/1875 [==============================] - 21s 11ms/step - loss: 0.0457 - acc: 0.9868 - val_loss: 0.0524 - val_acc: 0.9848\n",
      "Epoch 3/5\n",
      "1875/1875 [==============================] - 20s 11ms/step - loss: 0.0326 - acc: 0.9903 - val_loss: 0.0498 - val_acc: 0.9854\n",
      "Epoch 4/5\n",
      "1875/1875 [==============================] - 20s 11ms/step - loss: 0.0244 - acc: 0.9923 - val_loss: 0.0466 - val_acc: 0.9857\n",
      "Epoch 5/5\n",
      "1875/1875 [==============================] - 20s 11ms/step - loss: 0.0193 - acc: 0.9942 - val_loss: 0.0490 - val_acc: 0.9877\n"
     ]
    }
   ],
   "source": [
    "# CNNを使ってみる（構造は適当）\n",
    "from tensorflow.keras.models import Sequential\n",
    "from tensorflow.keras.layers import Flatten, Dense, Conv2D, BatchNormalization, MaxPooling2D\n",
    "model = Sequential()\n",
    "model.add(Conv2D(32, (3, 3), activation=\"relu\", input_shape=x_tr[0].shape))\n",
    "model.add(BatchNormalization())\n",
    "model.add(MaxPooling2D(2))\n",
    "model.add(Conv2D(64, (3, 3), activation=\"relu\"))\n",
    "model.add(BatchNormalization())\n",
    "model.add(MaxPooling2D(2))\n",
    "model.add(Flatten())\n",
    "model.add(Dense(64, \"relu\"))\n",
    "model.add(Dense(10, \"softmax\"))\n",
    "\n",
    "model.compile(\"adam\", \"sparse_categorical_crossentropy\", metrics=[\"acc\"])\n",
    "history = model.fit(x_tr, y_tr, epochs=5, validation_data=(x_te, y_te))"
   ]
  },
  {
   "attachments": {},
   "cell_type": "markdown",
   "metadata": {},
   "source": [
    "# PyTorch"
   ]
  },
  {
   "attachments": {},
   "cell_type": "markdown",
   "metadata": {},
   "source": [
    "1. [公式サイト](https://pytorch.org/) の INSTALL PYTORCH のところで自分の環境に合わせて選択し、`Run this Command:` のコマンドを実行する。\n",
    "2. 終わり。\n",
    "\n",
    "たとえば Stable (1.11.0), Windows, Pip, Python, CUDA 11.3 なら\n",
    "```sh\n",
    "> pip3 install torch torchvision torchaudio --extra-index-url https://download.pytorch.org/whl/cu113\n",
    "```\n",
    "<span style=\"color: red;\">パッケージ更新時、`pip install -U torch` だとCPU版に更新されてしまうっぽいので、毎回上記の手順を踏む。</span>\n",
    "\n"
   ]
  },
  {
   "cell_type": "code",
   "execution_count": 1,
   "metadata": {},
   "outputs": [
    {
     "data": {
      "text/plain": [
       "'1.13.0+cu117'"
      ]
     },
     "execution_count": 1,
     "metadata": {},
     "output_type": "execute_result"
    }
   ],
   "source": [
    "# バージョン確認。CPU版の場合 \"+cu113\" のような表記がないことに注意。\n",
    "import torch\n",
    "torch.__version__"
   ]
  },
  {
   "cell_type": "code",
   "execution_count": 2,
   "metadata": {},
   "outputs": [
    {
     "data": {
      "text/plain": [
       "True"
      ]
     },
     "execution_count": 2,
     "metadata": {},
     "output_type": "execute_result"
    }
   ],
   "source": [
    "# CUDAが使えることを確認\n",
    "torch.cuda.is_available()"
   ]
  },
  {
   "attachments": {},
   "cell_type": "markdown",
   "metadata": {},
   "source": [
    "## 使用例\n",
    "- ここではバッチ処理用の関数batch_process()と学習・テストを行うfit()関数を事前に作る。\n",
    "  - 作ったモデルをfit()にぶちこめばほぼKerasと同様に使えるというわけである。\n",
    "- GPUを使う場合はデータとモデルをGPUのメモリに転送する命令2行が必要。\n",
    "  - 言い換えればCPUを使う場合に対し、この2行を追加するだけでGPUが使われる。簡単だね！\n",
    "  - 書く場所はそれぞれ順伝播の前とモデルを作った後とか。"
   ]
  },
  {
   "cell_type": "code",
   "execution_count": 3,
   "metadata": {},
   "outputs": [],
   "source": [
    "# MNISTデータの読み込み\n",
    "from torchvision import transforms, datasets\n",
    "trans = transforms.ToTensor()   # これを使い読み込み時に指定した前処理を行う。\n",
    "# ~/data/にデータをダウンロードし、読み込む。既にある場合はそれが読み込まれる。\n",
    "data_tr = datasets.MNIST(\"~/data/\", train= True, transform=trans, download=True)\n",
    "data_te = datasets.MNIST(\"~/data/\", train=False, transform=trans, download=True)"
   ]
  },
  {
   "cell_type": "code",
   "execution_count": 25,
   "metadata": {},
   "outputs": [],
   "source": [
    "# 誤差関数、バッチ処理関数、学習・テスト関数の定義\n",
    "import time\n",
    "from torch import nn\n",
    "ce_loss = nn.CrossEntropyLoss()\n",
    "\n",
    "def batch_process(model, optimizer, data, batch_size=128, train=False):\n",
    "    \"\"\"バッチ処理関数（学習・テストで使い回す）\n",
    "    Args:\n",
    "        model (torch.nn.Module): モデル（インスタンス）\n",
    "        optimizer: torch.optim.Adamとか\n",
    "        data: data_tr or data_te\n",
    "        batch_size (int): ミニバッチのデータ数\n",
    "        train (bool): 学習時ならTrue、テスト時ならFalseとする。\n",
    "    Returns:\n",
    "        誤差と精度のtuple\n",
    "    \"\"\"\n",
    "\n",
    "    # 誤差と正答数\n",
    "    total_loss = 0\n",
    "    total_true = 0\n",
    "\n",
    "    # モード変更\n",
    "    model.train() if train else model.eval()\n",
    "    \n",
    "    # 各ミニバッチに対し\n",
    "    for batch, (x, y) in enumerate(torch.utils.data.DataLoader(data, batch_size, shuffle=True)):\n",
    "        # データをGPUのメモリに送る\n",
    "        x, y = x.cuda(), y.cuda()\n",
    "        # 順伝播\n",
    "        p = model(x)\n",
    "        loss = ce_loss(p, y)\n",
    "\n",
    "        # 学習時は勾配初期化・逆伝播・パラメータ更新\n",
    "        if train:\n",
    "            model.zero_grad()\n",
    "            loss.backward()\n",
    "            optimizer.step()\n",
    "\n",
    "        total_loss += loss * len(x)\n",
    "        total_true += sum((p.argmax(1) == y))\n",
    "        print(f\"\\r{batch:>4d} / {len(data_tr)//batch_size:>4d}\", end=\"\")\n",
    "    return float(total_loss / len(data)), float(total_true / len(data))\n",
    "\n",
    "def fit(model_cls, batch_size=128, epochs=1):\n",
    "    \"\"\"学習と、ついでにテスト（検証）しちゃう関数\n",
    "    Args:\n",
    "        model_cls (torch.nn.Module): モデルのclass\n",
    "        batch_size (int): ミニバッチのデータ数\n",
    "        epochs (int): エポック数\n",
    "    Returns:\n",
    "        学習中の誤差・精度の推移データ。Kerasのfit()の戻り値っぽくする。\n",
    "    \"\"\"\n",
    "    # モデルのインスタンスを生成し、GPUのメモリに送る。\n",
    "    model = model_cls().cuda()\n",
    "    optimizer = torch.optim.Adam(model.parameters())\n",
    "    # 学習結果\n",
    "    metrics = [\"loss\", \"acc\", \"val_loss\", \"val_acc\"]\n",
    "    history = {key: [] for key in metrics}\n",
    "    start = time.time()\n",
    "    # 各エポックに対し\n",
    "    for epoch in range(1, 1+epochs):\n",
    "        # 学習\n",
    "        loss, acc = batch_process(model, optimizer, data_tr, batch_size, train=True)\n",
    "        # テスト（勾配は計算させない）\n",
    "        with torch.no_grad():\n",
    "            val_loss, val_acc = batch_process(model, optimizer, data_te, batch_size)\n",
    "        # ログ出力・学習結果保存\n",
    "        print(f\"\\r[Epoch {epoch}/{epochs}]\\ttime: {time.time()-start:>5.1f}s - loss: {loss:.4f} - acc: {acc:.4f} - val_loss: {val_loss:.4f} - val_acc: {val_acc:.4f}\")\n",
    "        for k, v in zip(metrics, [loss, acc, val_loss, val_acc]):\n",
    "            history[k].append(float(v))\n",
    "    return history"
   ]
  },
  {
   "attachments": {},
   "cell_type": "markdown",
   "metadata": {},
   "source": [
    "### シンプルなNNの場合\n",
    "- 過学習気味。\n",
    "- RTX 3080 Ti (Laptop) + Windows で59.4秒"
   ]
  },
  {
   "cell_type": "code",
   "execution_count": 7,
   "metadata": {},
   "outputs": [
    {
     "name": "stdout",
     "output_type": "stream",
     "text": [
      "[Epoch 1/10]\ttime:  19.6s - loss: 0.2292 - acc: 0.9305 - val_loss: 0.1060 - val_acc: 0.9663\n",
      "[Epoch 2/10]\ttime:  39.3s - loss: 0.0824 - acc: 0.9745 - val_loss: 0.0762 - val_acc: 0.9768\n",
      "[Epoch 3/10]\ttime:  58.4s - loss: 0.0522 - acc: 0.9834 - val_loss: 0.0739 - val_acc: 0.9782\n",
      "[Epoch 4/10]\ttime:  78.2s - loss: 0.0373 - acc: 0.9883 - val_loss: 0.0763 - val_acc: 0.9787\n",
      "[Epoch 5/10]\ttime:  96.3s - loss: 0.0295 - acc: 0.9905 - val_loss: 0.0861 - val_acc: 0.9767\n",
      "[Epoch 6/10]\ttime: 113.6s - loss: 0.0264 - acc: 0.9910 - val_loss: 0.0975 - val_acc: 0.9744\n",
      "[Epoch 7/10]\ttime: 130.8s - loss: 0.0209 - acc: 0.9930 - val_loss: 0.0789 - val_acc: 0.9789\n",
      "[Epoch 8/10]\ttime: 148.6s - loss: 0.0173 - acc: 0.9942 - val_loss: 0.0830 - val_acc: 0.9819\n",
      "[Epoch 9/10]\ttime: 167.3s - loss: 0.0179 - acc: 0.9939 - val_loss: 0.0790 - val_acc: 0.9796\n",
      "[Epoch 10/10]\ttime: 185.7s - loss: 0.0147 - acc: 0.9951 - val_loss: 0.0820 - val_acc: 0.9815\n"
     ]
    }
   ],
   "source": [
    "class MLP(nn.Module):\n",
    "    def __init__(self, n_in=28*28*1, n_out=10):\n",
    "        super().__init__()\n",
    "        self.l1 = nn.Linear(in_features=n_in, out_features=1024)\n",
    "        self.l2 = nn.Linear(in_features=1024, out_features=1024)\n",
    "        self.l3 = nn.Linear(in_features=1024,out_features=n_out)\n",
    "        self.relu = nn.ReLU()\n",
    "\n",
    "    def forward(self, x):\n",
    "        h1 = self.relu(self.l1(x.view(-1, 784)))\n",
    "        h2 = self.relu(self.l2(h1))\n",
    "        return self.l3(h2)\n",
    "        \n",
    "history = fit(MLP, epochs=10)"
   ]
  },
  {
   "cell_type": "code",
   "execution_count": 26,
   "metadata": {},
   "outputs": [
    {
     "data": {
      "text/plain": [
       "<matplotlib.legend.Legend at 0x17832167220>"
      ]
     },
     "execution_count": 26,
     "metadata": {},
     "output_type": "execute_result"
    },
    {
     "data": {
      "image/png": "[encoded data removed]",
      "text/plain": [
       "<Figure size 432x288 with 1 Axes>"
      ]
     },
     "metadata": {
      "needs_background": "light"
     },
     "output_type": "display_data"
    }
   ],
   "source": [
    "# 学習曲線\n",
    "import matplotlib.pyplot as plt\n",
    "for label, metric in history.items():\n",
    "    plt.plot(metric, label=label)\n",
    "plt.legend()"
   ]
  },
  {
   "attachments": {},
   "cell_type": "markdown",
   "metadata": {},
   "source": [
    "### 簡単なCNNの場合\n",
    "ちょっと精度が上がったが、やはり過学習気味。"
   ]
  },
  {
   "cell_type": "code",
   "execution_count": 27,
   "metadata": {},
   "outputs": [
    {
     "name": "stdout",
     "output_type": "stream",
     "text": [
      "[Epoch 1/10]\ttime:  29.9s - loss: 0.1560 - acc: 0.9556 - val_loss: 0.0586 - val_acc: 0.9816\n",
      "[Epoch 2/10]\ttime:  54.7s - loss: 0.0494 - acc: 0.9844 - val_loss: 0.0429 - val_acc: 0.9865\n",
      "[Epoch 3/10]\ttime:  80.6s - loss: 0.0375 - acc: 0.9884 - val_loss: 0.0328 - val_acc: 0.9897\n",
      "[Epoch 4/10]\ttime: 106.7s - loss: 0.0303 - acc: 0.9904 - val_loss: 0.0419 - val_acc: 0.9849\n",
      "[Epoch 5/10]\ttime: 130.6s - loss: 0.0264 - acc: 0.9918 - val_loss: 0.0374 - val_acc: 0.9878\n",
      "[Epoch 6/10]\ttime: 156.5s - loss: 0.0214 - acc: 0.9931 - val_loss: 0.0434 - val_acc: 0.9857\n",
      "[Epoch 7/10]\ttime: 178.5s - loss: 0.0187 - acc: 0.9942 - val_loss: 0.0284 - val_acc: 0.9914\n",
      "[Epoch 8/10]\ttime: 200.3s - loss: 0.0156 - acc: 0.9952 - val_loss: 0.0265 - val_acc: 0.9915\n",
      "[Epoch 9/10]\ttime: 223.2s - loss: 0.0149 - acc: 0.9949 - val_loss: 0.0626 - val_acc: 0.9798\n",
      "[Epoch 10/10]\ttime: 248.8s - loss: 0.0127 - acc: 0.9963 - val_loss: 0.0283 - val_acc: 0.9912\n"
     ]
    }
   ],
   "source": [
    "class CNN(nn.Module):\n",
    "    def __init__(self):\n",
    "        super().__init__()\n",
    "        self.layer1 = nn.Sequential(\n",
    "            nn.Conv2d(1, 16, kernel_size=5, padding=2),\n",
    "            nn.BatchNorm2d(16),\n",
    "            nn.ReLU(),\n",
    "            nn.MaxPool2d(2),\n",
    "        )\n",
    "        self.layer2 = nn.Sequential(\n",
    "            nn.Conv2d(16, 32, kernel_size=5, padding=2),\n",
    "            nn.BatchNorm2d(32),\n",
    "            nn.ReLU(),\n",
    "            nn.MaxPool2d(2),\n",
    "        )\n",
    "        self.fc = nn.Linear(7 * 7 * 32, 10)\n",
    "\n",
    "    def forward(self, x):\n",
    "        x = self.layer1(x)\n",
    "        x = self.layer2(x)\n",
    "        x = self.fc(x.view(len(x), -1))\n",
    "        return x\n",
    "        \n",
    "history = fit(CNN, epochs=10)"
   ]
  },
  {
   "attachments": {},
   "cell_type": "markdown",
   "metadata": {},
   "source": [
    "### AlexNetの場合\n",
    "- 入力画像が224x224という前提なので、データを修正しておく（resizeして読み込む）。\n",
    "- 過学習なく、高精度。\n",
    "- ちなみにこの実行時間、3080Ti(Laptop)で実行したが、1660Tiでやったときよりちょうど2倍速くなっている。\n",
    "    - 1660Ti(Laptop): ~600s\n",
    "    - Tesla T4: 545.2s\n",
    "    - 1080: ~300s\n",
    "    - 3080Ti(Laptop): 290.4s\n",
    "    - 3090: 272.4s"
   ]
  },
  {
   "cell_type": "code",
   "execution_count": null,
   "metadata": {},
   "outputs": [],
   "source": [
    "# データの読み込み\n",
    "from torchvision import transforms, datasets\n",
    "trans = transforms.Compose([transforms.Resize((224, 224)), transforms.ToTensor()])\n",
    "data_tr = datasets.MNIST(\"./data/\", train= True, transform=trans, download=True)\n",
    "data_te = datasets.MNIST(\"./data/\", train=False, transform=trans, download=True)"
   ]
  },
  {
   "cell_type": "code",
   "execution_count": null,
   "metadata": {},
   "outputs": [],
   "source": [
    "class AlexNet(nn.Module):\n",
    "    def __init__(self, in_channel=1, num_classes=10):\n",
    "        super().__init__()\n",
    "        self.features = nn.Sequential(\n",
    "            nn.Conv2d(in_channel, 64, kernel_size=11, stride=4, padding=2),\n",
    "            nn.ReLU(inplace=True),\n",
    "            nn.MaxPool2d(kernel_size=3, stride=2),\n",
    "            nn.Conv2d(64, 192, kernel_size=5, padding=2),\n",
    "            nn.ReLU(inplace=True),\n",
    "            nn.MaxPool2d(kernel_size=3, stride=2),\n",
    "            nn.Conv2d(192, 384, kernel_size=3, padding=1),\n",
    "            nn.ReLU(inplace=True),\n",
    "            nn.Conv2d(384, 256, kernel_size=3, padding=1),\n",
    "            nn.ReLU(inplace=True),\n",
    "            nn.Conv2d(256, 256, kernel_size=3, padding=1),\n",
    "            nn.ReLU(inplace=True),\n",
    "            nn.MaxPool2d(kernel_size=3, stride=2),\n",
    "        )\n",
    "        self.avgpool = nn.AdaptiveAvgPool2d((6, 6)) \n",
    "        self.classifier = nn.Sequential(\n",
    "            nn.Dropout(),\n",
    "            nn.Linear(256 * 6 * 6, 4096),\n",
    "            nn.ReLU(inplace=True),\n",
    "            nn.Dropout(),\n",
    "            nn.Linear(4096, 4096),\n",
    "            nn.ReLU(inplace=True),\n",
    "            nn.Linear(4096, num_classes),\n",
    "        )\n",
    "\n",
    "    def forward(self, x):\n",
    "        x = self.features(x)\n",
    "        x = self.avgpool(x)\n",
    "        x = torch.flatten(x, 1)\n",
    "        x = self.classifier(x)\n",
    "        return x\n",
    "        \n",
    "history = fit(AlexNet, epochs=10)"
   ]
  },
  {
   "cell_type": "code",
   "execution_count": null,
   "metadata": {},
   "outputs": [],
   "source": []
  }
 ],
 "metadata": {
  "kernelspec": {
   "display_name": "venv",
   "language": "python",
   "name": "python3"
  },
  "language_info": {
   "codemirror_mode": {
    "name": "ipython",
    "version": 3
   },
   "file_extension": ".py",
   "mimetype": "text/x-python",
   "name": "python",
   "nbconvert_exporter": "python",
   "pygments_lexer": "ipython3",
   "version": "3.10.8 (tags/v3.10.8:aaaf517, Oct 11 2022, 16:50:30) [MSC v.1933 64 bit (AMD64)]"
  },
  "orig_nbformat": 4,
  "vscode": {
   "interpreter": {
    "hash": "9ded38025e7b08e8d11260cded3e3515995d8cb6a0dd8d6e015af437f87a8e3f"
   }
  }
 },
 "nbformat": 4,
 "nbformat_minor": 2
}
