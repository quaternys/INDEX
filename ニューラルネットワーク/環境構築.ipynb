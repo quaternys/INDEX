{
 "cells": [
  {
   "attachments": {},
   "cell_type": "markdown",
   "metadata": {},
   "source": [
    "2023/08/13"
   ]
  },
  {
   "attachments": {},
   "cell_type": "markdown",
   "metadata": {},
   "source": [
    "# 概要"
   ]
  },
  {
   "attachments": {},
   "cell_type": "markdown",
   "metadata": {},
   "source": [
    "- PyTorch (+GPU) の環境構築手順とサンプルコード\n",
    "- 対応OS: Windows/Ubuntu\n",
    "  - 同じハード構成でもほぼ間違いなくUbuntuのほうが高速"
   ]
  },
  {
   "attachments": {},
   "cell_type": "markdown",
   "metadata": {},
   "source": [
    "# 環境構築\n"
   ]
  },
  {
   "attachments": {},
   "cell_type": "markdown",
   "metadata": {},
   "source": [
    "## 1. NVIDIA driver のインストール"
   ]
  },
  {
   "attachments": {},
   "cell_type": "markdown",
   "metadata": {},
   "source": [
    "### Windowsの場合\n",
    "- [GeForce Experience アプリ](https://www.nvidia.com/ja-jp/geforce/geforce-experience/) を使うと自動で更新通知が来て楽（要ユーザ登録）．\n",
    "  - ドライバ単体を https://www.nvidia.co.jp/Download/index.aspx?lang=jp から落としてもよい．\n",
    "- インストール後再起動し，`> nvidia-smi` が動くか確認\n",
    "### Ubuntuの場合\n",
    "- `$ ubuntu-drivers devices` で確認できるドライバのうち，末尾にrecommendedと付いている行を確認\n",
    "- それをインストール：`$ sudo apt install nvidia-driver-xxx`\n",
    "- インストール後再起動し，`> nvidia-smi` が動くか確認"
   ]
  },
  {
   "attachments": {},
   "cell_type": "markdown",
   "metadata": {},
   "source": [
    "## 2. PyTorchのインストール\n",
    "- https://pytorch.org/ で自分の環境に合わせたインストールコマンドを取得し，実行するだけ．\n",
    "- たとえば Stable (2.0.1) + Pip + Python + CUDA 11.8 なら\n",
    "```sh\n",
    "pip3 install torch torchvision torchaudio --index-url https://download.pytorch.org/whl/cu118\n",
    "```\n",
    "- CUDA, cuDNN も一緒に入るのでこいつらはインストール不要．\n",
    "- 仮想環境での作業を強く推奨．\n",
    "  - Ubuntuなら `$ python3 -m venv venv; source ./venv/bin/activate` するだけ"
   ]
  },
  {
   "attachments": {},
   "cell_type": "markdown",
   "metadata": {},
   "source": [
    "# サンプルコード"
   ]
  },
  {
   "cell_type": "code",
   "execution_count": 1,
   "metadata": {},
   "outputs": [
    {
     "data": {
      "text/plain": [
       "'2.0.1+cu118'"
      ]
     },
     "execution_count": 1,
     "metadata": {},
     "output_type": "execute_result"
    }
   ],
   "source": [
    "# バージョン確認．CPU版の場合 \"+cu118\" のような表記がないことに注意．\n",
    "import torch\n",
    "torch.__version__"
   ]
  },
  {
   "cell_type": "code",
   "execution_count": 2,
   "metadata": {},
   "outputs": [
    {
     "data": {
      "text/plain": [
       "True"
      ]
     },
     "execution_count": 2,
     "metadata": {},
     "output_type": "execute_result"
    }
   ],
   "source": [
    "# CUDAが使えることを確認\n",
    "torch.cuda.is_available()"
   ]
  },
  {
   "cell_type": "markdown",
   "metadata": {},
   "source": [
    "## データセットの取得\n",
    "CIFAR10"
   ]
  },
  {
   "cell_type": "code",
   "execution_count": 3,
   "metadata": {},
   "outputs": [
    {
     "name": "stdout",
     "output_type": "stream",
     "text": [
      "Files already downloaded and verified\n",
      "Files already downloaded and verified\n"
     ]
    }
   ],
   "source": [
    "# データセットの読み込み\n",
    "from torchvision import datasets, transforms\n",
    "data_tr = datasets.CIFAR10(\"~/data/\", train= True, transform=transforms.ToTensor(), download=True)\n",
    "data_te = datasets.CIFAR10(\"~/data/\", train=False, transform=transforms.ToTensor(), download=True)"
   ]
  },
  {
   "cell_type": "code",
   "execution_count": 4,
   "metadata": {},
   "outputs": [
    {
     "name": "stdout",
     "output_type": "stream",
     "text": [
      "torch.Size([3, 32, 32])\n",
      "6\n"
     ]
    },
    {
     "data": {
      "text/plain": [
       "<matplotlib.colorbar.Colorbar at 0x7f82764d9150>"
      ]
     },
     "execution_count": 4,
     "metadata": {},
     "output_type": "execute_result"
    },
    {
     "data": {
      "image/png": "[encoded data removed]",
      "text/plain": [
       "<Figure size 640x480 with 2 Axes>"
      ]
     },
     "metadata": {},
     "output_type": "display_data"
    }
   ],
   "source": [
    "# 最初のデータを確認\n",
    "x0, y0 = data_tr[0]\n",
    "print(x0.shape) # 入力：(channels, height, width)\n",
    "print(y0)       # 出力：整数\n",
    "\n",
    "# 画像の確認\n",
    "import matplotlib.pyplot as plt\n",
    "plt.imshow(x0.permute(1, 2, 0)) # (height, width, channels) に直して描画\n",
    "plt.colorbar()                  # 画素値∈[0, 1]"
   ]
  },
  {
   "cell_type": "code",
   "execution_count": 5,
   "metadata": {},
   "outputs": [],
   "source": [
    "# ミニバッチ化\n",
    "loader_tr = torch.utils.data.DataLoader(data_tr, batch_size=256, shuffle=True)\n",
    "loader_te = torch.utils.data.DataLoader(data_te, batch_size=256, shuffle=True)"
   ]
  },
  {
   "cell_type": "code",
   "execution_count": 6,
   "metadata": {},
   "outputs": [
    {
     "name": "stdout",
     "output_type": "stream",
     "text": [
      "torch.Size([256, 3, 32, 32])\n",
      "torch.Size([256])\n",
      "tensor([8, 2, 4, 6, 7])\n"
     ]
    }
   ],
   "source": [
    "# 最初のバッチを確認（データをバッチサイズ分並べただけ）\n",
    "for x0, y0 in loader_tr:\n",
    "    break\n",
    "print(x0.shape)\n",
    "print(y0.shape)\n",
    "print(y0[:5])"
   ]
  },
  {
   "cell_type": "markdown",
   "metadata": {},
   "source": [
    "## モデルの作成"
   ]
  },
  {
   "cell_type": "code",
   "execution_count": 7,
   "metadata": {},
   "outputs": [],
   "source": [
    "# モデル定義\n",
    "class CNN(torch.nn.Module):\n",
    "    def __init__(self):\n",
    "        super().__init__()\n",
    "        self.conv1  = torch.nn.Conv2d(3, 20, 5, padding=2)\n",
    "        self.conv2  = torch.nn.Conv2d(20, 40, 5, padding=2)\n",
    "        self.norm1  = torch.nn.BatchNorm2d(20)\n",
    "        self.norm2  = torch.nn.BatchNorm2d(40)\n",
    "        self.pool   = torch.nn.MaxPool2d(2)\n",
    "        self.output = torch.nn.Linear(40*8*8, 10)\n",
    "\n",
    "    def forward(self, x):   # x.shape = (bsz, 3, 32, 32)\n",
    "        x = self.pool(self.norm1(self.conv1(x)).relu()) # (bsz, 20, 16, 16)\n",
    "        x = self.pool(self.norm2(self.conv2(x)).relu()) # (bsz, 40, 8, 8)\n",
    "        x = self.output(x.view(len(x), -1))             # (bsz, 10)\n",
    "        return x"
   ]
  },
  {
   "cell_type": "code",
   "execution_count": 8,
   "metadata": {},
   "outputs": [
    {
     "name": "stdout",
     "output_type": "stream",
     "text": [
      "tensor([4, 3, 2, 2, 3, 2, 2, 3, 2, 2, 2, 3, 3, 2, 8, 2, 2, 2, 2, 2, 2, 2, 4, 2,\n",
      "        3, 2, 2, 3, 2, 2, 3, 2, 2, 2, 2, 4, 3, 4, 3, 3, 2, 2, 3, 2, 3, 4, 2, 2,\n",
      "        3, 3, 4, 2, 4, 2, 3, 2, 3, 2, 2, 3, 3, 3, 2, 2, 2, 2, 3, 3, 3, 2, 2, 2,\n",
      "        3, 3, 4, 2, 2, 2, 3, 2, 5, 2, 2, 2, 2, 2, 3, 2, 4, 2, 3, 2, 2, 2, 2, 8,\n",
      "        2, 2, 2, 4, 3, 4, 2, 3, 8, 2, 2, 2, 2, 3, 2, 4, 2, 4, 2, 2, 2, 8, 3, 3,\n",
      "        2, 2, 2, 3, 3, 2, 2, 3, 2, 2, 3, 9, 2, 3, 2, 2, 4, 2, 3, 2, 3, 2, 2, 2,\n",
      "        2, 2, 2, 4, 2, 2, 4, 2, 4, 2, 3, 3, 2, 2, 3, 2, 4, 2, 2, 3, 2, 3, 2, 4,\n",
      "        2, 2, 2, 2, 2, 2, 3, 2, 8, 3, 2, 2, 2, 2, 2, 3, 2, 2, 2, 2, 2, 2, 2, 3,\n",
      "        4, 2, 2, 6, 2, 2, 2, 2, 3, 4, 2, 2, 2, 2, 8, 2, 2, 2, 2, 2, 4, 3, 2, 3,\n",
      "        3, 2, 2, 4, 4, 2, 2, 3, 3, 2, 3, 4, 4, 2, 2, 9, 2, 3, 3, 2, 2, 3, 2, 3,\n",
      "        2, 2, 4, 2, 2, 2, 8, 8, 2, 4, 2, 2, 3, 2, 4, 3])\n"
     ]
    }
   ],
   "source": [
    "# モデル作成・推論\n",
    "model = CNN()\n",
    "p = model(x0)       # p.shape = (bsz, 10)\n",
    "print(p.argmax(-1)) # 推定ラベル"
   ]
  },
  {
   "cell_type": "markdown",
   "metadata": {},
   "source": [
    "## 学習"
   ]
  },
  {
   "cell_type": "code",
   "execution_count": 9,
   "metadata": {},
   "outputs": [
    {
     "name": "stderr",
     "output_type": "stream",
     "text": [
      "/home/kikulab/abc/venvs/venv311/lib/python3.11/site-packages/torch/nn/modules/conv.py:459: UserWarning: Applied workaround for CuDNN issue, install nvrtc.so (Triggered internally at ../aten/src/ATen/native/cudnn/Conv_v8.cpp:80.)\n",
      "  return F.conv2d(input, weight, bias, self.stride,\n"
     ]
    },
    {
     "name": "stdout",
     "output_type": "stream",
     "text": [
      " 1 epoch (196 / 196 batch) - loss: 1.1606 - acc: 0.5926\n",
      " 2 epoch (196 / 196 batch) - loss: 1.0335 - acc: 0.6331\n",
      " 3 epoch (196 / 196 batch) - loss: 0.9892 - acc: 0.6548\n",
      " 4 epoch (196 / 196 batch) - loss: 0.8887 - acc: 0.6937\n",
      " 5 epoch (196 / 196 batch) - loss: 0.8852 - acc: 0.6984\n",
      " 6 epoch (196 / 196 batch) - loss: 0.8470 - acc: 0.7072\n",
      " 7 epoch (196 / 196 batch) - loss: 0.8700 - acc: 0.6945\n",
      " 8 epoch (196 / 196 batch) - loss: 0.8575 - acc: 0.7041\n",
      " 9 epoch (196 / 196 batch) - loss: 0.8265 - acc: 0.7173\n",
      "10 epoch (196 / 196 batch) - loss: 0.8128 - acc: 0.7215\n",
      "CPU times: user 18.5 s, sys: 748 ms, total: 19.2 s\n",
      "Wall time: 15.8 s\n"
     ]
    }
   ],
   "source": [
    "%%time\n",
    "model = CNN().cuda()    # .cuda()でGPUメモリへ転送\n",
    "optimizer = torch.optim.Adam(model.parameters())\n",
    "\n",
    "for epoch in range(1, 1+10):\n",
    "    # 訓練\n",
    "    for batch, (x, y) in enumerate(loader_tr, 1):\n",
    "        x, y = x.cuda(), y.cuda()   # GPUメモリへ転送\n",
    "        p = model(x)                # 順伝播\n",
    "        loss = torch.nn.functional.cross_entropy(p, y)  # 損失計算\n",
    "        optimizer.zero_grad()       # 勾配初期化\n",
    "        loss.backward()             # 逆伝播\n",
    "        optimizer.step()            # 更新\n",
    "        print(f\"\\r{epoch:2} epoch ({batch} / {len(loader_tr)} batch)\", end=\"\")\n",
    "        \n",
    "    # 検証 (全テストデータまとめて)\n",
    "    p = model(torch.Tensor(data_te.data).cuda().permute(0, 3, 1, 2)/255)\n",
    "    y = torch.tensor(data_te.targets).cuda()\n",
    "    loss = torch.nn.functional.cross_entropy(p, y)  # 損失\n",
    "    acc = (p.argmax(1) == y).float().mean()         # 精度\n",
    "    print(f\" - loss: {loss:.4f} - acc: {acc:.4f}\")"
   ]
  },
  {
   "cell_type": "code",
   "execution_count": null,
   "metadata": {},
   "outputs": [],
   "source": []
  }
 ],
 "metadata": {
  "kernelspec": {
   "display_name": "venv",
   "language": "python",
   "name": "python3"
  },
  "language_info": {
   "codemirror_mode": {
    "name": "ipython",
    "version": 3
   },
   "file_extension": ".py",
   "mimetype": "text/x-python",
   "name": "python",
   "nbconvert_exporter": "python",
   "pygments_lexer": "ipython3",
   "version": "3.11.4"
  },
  "orig_nbformat": 4
 },
 "nbformat": 4,
 "nbformat_minor": 2
}
