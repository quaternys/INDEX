{
 "cells": [
  {
   "cell_type": "markdown",
   "metadata": {},
   "source": [
    "2024/08/04"
   ]
  },
  {
   "cell_type": "markdown",
   "metadata": {},
   "source": [
    "# Stacked Autoencoder\n",
    "- AEの中間層の出力を一回り小さいAEの入出力画像とすることを繰り返し，各エンコーダを順に学習する．\n",
    "  - テスト時は，外側のエンコーダから入力し，出力を内側のエンコーダに入力することを繰り返す．\n",
    "- 各AEの入出力は `[-1, 1]` で統一し，中間層・デコーダーの活性化関数を `tanh` とする．"
   ]
  },
  {
   "cell_type": "code",
   "execution_count": 1,
   "metadata": {},
   "outputs": [],
   "source": [
    "import torch\n",
    "from torch import nn\n",
    "from torch.utils.data import DataLoader, Dataset\n",
    "from torchvision import datasets, transforms\n",
    "import matplotlib.pyplot as plt"
   ]
  },
  {
   "cell_type": "code",
   "execution_count": 2,
   "metadata": {},
   "outputs": [],
   "source": [
    "transform = transforms.Compose([transforms.ToTensor(), transforms.Normalize((0.5,), (0.5,))])\n",
    "train_dataset = datasets.MNIST('~/data', train=True, transform=transform, download=True)\n",
    "test_dataset = datasets.MNIST('~/data', train=False, transform=transform, download=True)\n",
    "train_loader = DataLoader(train_dataset, batch_size=64, shuffle=True)\n",
    "test_loader = DataLoader(test_dataset, batch_size=64, shuffle=False)"
   ]
  },
  {
   "cell_type": "code",
   "execution_count": 3,
   "metadata": {},
   "outputs": [],
   "source": [
    "class Autoencoder(nn.Module):\n",
    "    def __init__(self, input_dim, hdim):\n",
    "        super().__init__()\n",
    "        self.encoder = nn.Sequential(nn.Linear(input_dim, hdim), nn.Tanh())\n",
    "        self.decoder = nn.Sequential(nn.Linear(hdim, input_dim), nn.Tanh())\n",
    "\n",
    "    def forward(self, x):\n",
    "        encoded = self.encoder(x)\n",
    "        decoded = self.decoder(encoded)\n",
    "        return encoded, decoded"
   ]
  },
  {
   "cell_type": "code",
   "execution_count": 4,
   "metadata": {},
   "outputs": [],
   "source": [
    "class EncodedDataset(Dataset):\n",
    "    def __init__(self, data: torch.Tensor, target: torch.Tensor):\n",
    "        self.data = data\n",
    "        self.target = target\n",
    "        self.length = len(data)\n",
    "\n",
    "    def __len__(self):\n",
    "        return self.length\n",
    "\n",
    "    def __getitem__(self, i):\n",
    "        return self.data[i], self.target[i]\n",
    "\n",
    "def train_autoencoder(model, loader, epochs=20, lr=1e-3):\n",
    "    optimizer = torch.optim.Adam(model.parameters(), lr)\n",
    "    model.train()\n",
    "    for epoch in range(1, 1+epochs):\n",
    "        for x, _ in loader:\n",
    "            x = x.flatten(1).cuda()\n",
    "            _, output = model(x)\n",
    "            loss = nn.functional.mse_loss(output, x)\n",
    "            optimizer.zero_grad()\n",
    "            loss.backward()\n",
    "            optimizer.step()\n",
    "        print(f\"Epoch [{epoch}/{epochs}], Loss: {loss:.4f}\")\n",
    "\n",
    "@torch.no_grad()\n",
    "def make_downsampled_loader(model, loader):\n",
    "    model.eval()\n",
    "    xs, ys = [], []\n",
    "    for x, y in loader:\n",
    "        xs.append(model.encoder(x.flatten(1).cuda()).cpu())\n",
    "        ys.append(y)\n",
    "    return DataLoader(EncodedDataset(torch.cat(xs), torch.cat(ys)), batch_size=64, shuffle=True)"
   ]
  },
  {
   "cell_type": "code",
   "execution_count": 5,
   "metadata": {},
   "outputs": [
    {
     "name": "stdout",
     "output_type": "stream",
     "text": [
      "Model 1\n",
      "Epoch [1/5], Loss: 0.0446\n",
      "Epoch [2/5], Loss: 0.0228\n",
      "Epoch [3/5], Loss: 0.0180\n",
      "Epoch [4/5], Loss: 0.0171\n",
      "Epoch [5/5], Loss: 0.0147\n",
      "Model 2\n",
      "Epoch [1/5], Loss: 0.0319\n",
      "Epoch [2/5], Loss: 0.0282\n",
      "Epoch [3/5], Loss: 0.0307\n",
      "Epoch [4/5], Loss: 0.0277\n",
      "Epoch [5/5], Loss: 0.0270\n",
      "Model 3\n",
      "Epoch [1/5], Loss: 0.0382\n",
      "Epoch [2/5], Loss: 0.0372\n",
      "Epoch [3/5], Loss: 0.0320\n",
      "Epoch [4/5], Loss: 0.0425\n",
      "Epoch [5/5], Loss: 0.0378\n"
     ]
    }
   ],
   "source": [
    "dims = [28*28, 128, 64, 32]\n",
    "models = [Autoencoder(dims[i], dims[i+1]).cuda() for i in range(len(dims)-1)]\n",
    "\n",
    "train_loader = DataLoader(train_dataset, batch_size=64, shuffle=True)\n",
    "for i, model in enumerate(models, 1):\n",
    "    print(f\"Model {i}\")\n",
    "    train_autoencoder(model, train_loader, epochs=5)\n",
    "    train_loader = make_downsampled_loader(model, train_loader)"
   ]
  },
  {
   "cell_type": "code",
   "execution_count": 6,
   "metadata": {},
   "outputs": [
    {
     "data": {
      "image/png": "[encoded data removed]",
      "text/plain": [
       "<Figure size 1600x400 with 16 Axes>"
      ]
     },
     "metadata": {},
     "output_type": "display_data"
    }
   ],
   "source": [
    "with torch.no_grad():\n",
    "    for x_orig, _ in test_loader:\n",
    "        x = x_orig.view(len(x_orig), -1).cuda()\n",
    "\n",
    "        encoded_img = x\n",
    "        for model in models:\n",
    "            encoded_img = model.encoder(encoded_img)\n",
    "\n",
    "        decoded_img = encoded_img\n",
    "        for model in models[::-1]:\n",
    "            decoded_img = model.decoder(decoded_img)\n",
    "\n",
    "        input_img = x_orig.numpy()\n",
    "        output_img = decoded_img.view_as(x_orig).cpu().numpy()\n",
    "\n",
    "        cols = 8\n",
    "        fig, axes = plt.subplots(2, cols, sharex=True, sharey=True, figsize=(16, 4))\n",
    "        for j in range(cols):\n",
    "            axes[0, j].imshow(input_img[j].reshape((28, 28)), cmap=\"gray\")\n",
    "            axes[0, j].get_xaxis().set_visible(False)\n",
    "            axes[0, j].get_yaxis().set_visible(False)\n",
    "        for j in range(cols):\n",
    "            axes[1, j].imshow(output_img[j].reshape((28, 28)), cmap=\"gray\")\n",
    "            axes[1, j].get_xaxis().set_visible(False)\n",
    "            axes[1, j].get_yaxis().set_visible(False)\n",
    "        break"
   ]
  },
  {
   "cell_type": "code",
   "execution_count": null,
   "metadata": {},
   "outputs": [],
   "source": []
  }
 ],
 "metadata": {
  "kernelspec": {
   "display_name": "venv",
   "language": "python",
   "name": "python3"
  },
  "language_info": {
   "codemirror_mode": {
    "name": "ipython",
    "version": 3
   },
   "file_extension": ".py",
   "mimetype": "text/x-python",
   "name": "python",
   "nbconvert_exporter": "python",
   "pygments_lexer": "ipython3",
   "version": "3.12.3"
  }
 },
 "nbformat": 4,
 "nbformat_minor": 2
}
